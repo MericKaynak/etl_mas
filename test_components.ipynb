{
 "cells": [
  {
   "cell_type": "code",
   "execution_count": 13,
   "id": "2d86f85e",
   "metadata": {},
   "outputs": [],
   "source": [
    "\n",
    "import json\n",
    "import pandas as pd\n",
    "import xml.etree.ElementTree as ET\n",
    "from pathlib import Path\n",
    "from langchain.agents import AgentExecutor, create_react_agent\n",
    "import gradio as gr\n",
    "from gradio import ChatMessage\n",
    "from langchain.prompts.chat import ChatPromptTemplate\n",
    "from langchain.schema import HumanMessage, SystemMessage\n",
    "from langchain.chat_models import init_chat_model\n",
    "import getpass\n",
    "import os\n",
    "import sys\n",
    "from langchain_core.runnables import Runnable\n",
    "from utils.schema_analyzer import SchemaAnalyzer\n",
    "from utils.schema_modeler_agent import SchemaModeler\n",
    "\n",
    "\n",
    "\n",
    "if not os.environ.get(\"OPENAI_API_KEY\"):\n",
    "  os.environ[\"OPENAI_API_KEY\"] = getpass.getpass(\"Enter API key for OpenAI: \")\n",
    "\n",
    "llm = init_chat_model(\"gpt-4o\", model_provider=\"openai\")\n",
    "\n",
    "\n",
    "schema_modeler_agent = SchemaModeler(llm)\n",
    "\n",
    "\n",
    "KB_DIR = Path(\"knowledge_base\")\n",
    "SUPPORTED_EXTS = [\".csv\", \".json\", \".xlsx\", \".xml\"]\n"
   ]
  },
  {
   "cell_type": "code",
   "execution_count": null,
   "id": "f3e757b6",
   "metadata": {},
   "outputs": [
    {
     "name": "stdout",
     "output_type": "stream",
     "text": [
      "* Running on local URL:  http://127.0.0.1:7865\n",
      "* To create a public link, set `share=True` in `launch()`.\n"
     ]
    },
    {
     "data": {
      "text/html": [
       "<div><iframe src=\"http://127.0.0.1:7865/\" width=\"100%\" height=\"500\" allow=\"autoplay; camera; microphone; clipboard-read; clipboard-write;\" frameborder=\"0\" allowfullscreen></iframe></div>"
      ],
      "text/plain": [
       "<IPython.core.display.HTML object>"
      ]
     },
     "metadata": {},
     "output_type": "display_data"
    },
    {
     "data": {
      "text/plain": []
     },
     "execution_count": 14,
     "metadata": {},
     "output_type": "execute_result"
    }
   ],
   "source": [
    "\n",
    "\n",
    "def list_kb_files():\n",
    "    return [str(p.name) for p in KB_DIR.glob(\"*\") if p.suffix.lower() in SUPPORTED_EXTS]\n",
    "\n",
    "async def respond(message, chat_history, selected_files, uploaded_files):\n",
    "    selected_paths = [KB_DIR / name for name in selected_files]\n",
    "    uploaded_paths = [Path(f.name) for f in uploaded_files or []]\n",
    "\n",
    "    async for chunk in schema_modeler_agent.get_schema(\n",
    "        selected_files=selected_files,\n",
    "        uploaded_files=uploaded_files\n",
    "    ):\n",
    "        yield chunk\n",
    "    \n",
    "    \n",
    "with gr.Blocks() as demo:\n",
    "    gr.Markdown(\"# 🧠 File-to-LinkML Schema Chatbot\")\n",
    "\n",
    "    with gr.Accordion(\"📂 Select or upload files\", open=False) as inputs_accordion:\n",
    "        kb_files = gr.CheckboxGroup(\n",
    "            label=\"Select files from knowledge_base\",\n",
    "            choices=list_kb_files()\n",
    "        )\n",
    "        uploads = gr.File(\n",
    "            label=\"Upload your own files\",\n",
    "            file_types=SUPPORTED_EXTS,\n",
    "            file_count=\"multiple\"\n",
    "        )\n",
    "\n",
    "    chatbot = gr.ChatInterface(\n",
    "        fn=respond,\n",
    "        title=\"LinkML Schema Generator\",\n",
    "        type=\"messages\",\n",
    "        additional_inputs=[kb_files, uploads],\n",
    "        additional_inputs_accordion=inputs_accordion,\n",
    "        save_history=True,\n",
    "        examples=[[\"Can you generate a LinkML schema that reflects the data structure, its format, and relationships?\"]],\n",
    "    )\n",
    "\n",
    "demo.launch()\n",
    "\n"
   ]
  }
 ],
 "metadata": {
  "kernelspec": {
   "display_name": ".venv",
   "language": "python",
   "name": "python3"
  },
  "language_info": {
   "codemirror_mode": {
    "name": "ipython",
    "version": 3
   },
   "file_extension": ".py",
   "mimetype": "text/x-python",
   "name": "python",
   "nbconvert_exporter": "python",
   "pygments_lexer": "ipython3",
   "version": "3.11.9"
  }
 },
 "nbformat": 4,
 "nbformat_minor": 5
}
