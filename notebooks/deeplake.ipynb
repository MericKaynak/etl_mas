{
 "cells": [
  {
   "cell_type": "code",
   "execution_count": 11,
   "id": "04c5ea8e",
   "metadata": {},
   "outputs": [],
   "source": [
    "from langchain_ollama import OllamaEmbeddings\n",
    "from langchain_chroma import Chroma\n",
    "from langchain_community.document_loaders import TextLoader\n",
    "from langchain.text_splitter import CharacterTextSplitter\n",
    "from langchain.llms import Ollama\n",
    "from langchain.chains import RetrievalQA"
   ]
  },
  {
   "cell_type": "code",
   "execution_count": 2,
   "id": "fe128d8f",
   "metadata": {},
   "outputs": [],
   "source": [
    "# 1. Embedding-Modell vorbereiten\n",
    "embeddings = OllamaEmbeddings(model=\"nomic-embed-text\")"
   ]
  },
  {
   "cell_type": "code",
   "execution_count": 3,
   "id": "97c44ea7",
   "metadata": {},
   "outputs": [],
   "source": [
    "# 2. Datei laden\n",
    "loader = TextLoader(\"../knowledge_base/ChinookData.json\", encoding='utf-8')\n",
    "documents = loader.load()"
   ]
  },
  {
   "cell_type": "code",
   "execution_count": 4,
   "id": "1411d1d0",
   "metadata": {},
   "outputs": [],
   "source": [
    "# 3. Text in Chunks aufteilen\n",
    "text_splitter = CharacterTextSplitter(chunk_size=500, chunk_overlap=50)\n",
    "texts = text_splitter.split_documents(documents)"
   ]
  },
  {
   "cell_type": "code",
   "execution_count": 5,
   "id": "f2f8a096",
   "metadata": {},
   "outputs": [],
   "source": [
    "\n",
    "vector_store = Chroma(\n",
    "    collection_name=\"example_collection\",\n",
    "    embedding_function=embeddings,\n",
    "    persist_directory=\"./chroma_langchain_db\",  # Where to save data locally, remove if not necessary\n",
    ")"
   ]
  },
  {
   "cell_type": "code",
   "execution_count": 6,
   "id": "4653be87",
   "metadata": {},
   "outputs": [
    {
     "data": {
      "text/plain": [
       "['ce1ea10f-ea11-43cc-92f8-3b78df59eafc']"
      ]
     },
     "execution_count": 6,
     "metadata": {},
     "output_type": "execute_result"
    }
   ],
   "source": [
    "# 5. Dokumente hinzufügen und speichern\n",
    "vector_store.add_documents(texts)"
   ]
  },
  {
   "cell_type": "code",
   "execution_count": 10,
   "id": "9ba9ab45",
   "metadata": {},
   "outputs": [
    {
     "name": "stderr",
     "output_type": "stream",
     "text": [
      "C:\\Users\\meric\\AppData\\Local\\Temp\\ipykernel_2400\\889653991.py:2: LangChainDeprecationWarning: The class `Ollama` was deprecated in LangChain 0.3.1 and will be removed in 1.0.0. An updated version of the class exists in the :class:`~langchain-ollama package and should be used instead. To use it run `pip install -U :class:`~langchain-ollama` and import as `from :class:`~langchain_ollama import OllamaLLM``.\n",
      "  llm = Ollama(model=\"mistral\")\n"
     ]
    }
   ],
   "source": [
    "# LLM über Ollama\n",
    "llm = Ollama(model=\"mistral\")"
   ]
  },
  {
   "cell_type": "code",
   "execution_count": 13,
   "id": "d9e7fc43",
   "metadata": {},
   "outputs": [],
   "source": [
    "# Retriever aus Chroma\n",
    "retriever = vector_store.as_retriever()\n",
    "\n",
    "rag_chain = RetrievalQA.from_chain_type(\n",
    "    llm=llm,\n",
    "    retriever=retriever,\n",
    "    return_source_documents=True\n",
    ")"
   ]
  },
  {
   "cell_type": "code",
   "execution_count": 16,
   "id": "60bab29f",
   "metadata": {},
   "outputs": [
    {
     "name": "stdout",
     "output_type": "stream",
     "text": [
      "Antwort:  Hier ist ein Beispiel für ein LinkML Schema, das die angegebene Datenstruktur wiedergeben sollte. Das LinkML Schema definiert die Klasse `Song` mit den Eigenschaften `id`, `title`, und `album`. Zusätzlich wird eine Relation `belongsToAlbum` definiert, um zu sagen, dass jede Komposition einem Album zugeordnet ist.\n",
      "\n",
      "```yaml\n",
      "@prefix dc: <http://purl.org/dc/elements/1.1/> .\n",
      "@prefix foaf: <http://xmlns.com/foaf/0.1/> .\n",
      "@prefix xsd: <http://www.w3.org/2001/XMLSchema#> .\n",
      "@prefix rdf: <http://www.w3.org/1999/02/22-rdf-syntax-ns#> .\n",
      "@prefix lmm: <https://w3id.org/linkml/lmm> .\n",
      "@prefix skos: <http://www.w3.org/2004/02/skos/core#> .\n",
      "\n",
      "<Song> rdf:Class ;\n",
      "    lmm:hasProperty [ a rdf:Property ;\n",
      "                        lmm:propertyType xsd:string ;\n",
      "                        lmm:propertyName \"id\" ;\n",
      "                        lmm:propertyDocumentation \"The unique identifier of the song.\" ] ,\n",
      "    lmm:hasProperty [ a rdf:Property ;\n",
      "                        lmm:propertyType xsd:string ;\n",
      "                        lmm:propertyName \"title\" ;\n",
      "                        lmm:propertyDocumentation \"The title of the song.\" ] ,\n",
      "    lmm:hasProperty [ a rdf:Property ;\n",
      "                        lmm:propertyType xsd:string ;\n",
      "                        lmm:propertyName \"album\" ;\n",
      "                        lmm:propertyDocumentation \"The album that the song belongs to.\" ] ;\n",
      "    lmm:hasRelation [ a rdf:Property ;\n",
      "                      lmm:relationType lmm:hasMany ;\n",
      "                      lmm:relationName \"belongsToAlbum\" ;\n",
      "                      lmm:subjectClass Song ;\n",
      "                      lmm:objectClass Album ;\n",
      "                      lmm:propertyDocumentation \"The album that the song belongs to.\" ] .\n",
      "```\n",
      "\n",
      "Hier ist ein Beispiel, wie diese Klasse in RDF/JSON aufgebaut sein könnte:\n",
      "\n",
      "```json\n",
      "{\n",
      "  \"@context\": \"https://w3id.org/linkml/lmm\",\n",
      "  \"@graph\": [\n",
      "    {\n",
      "      \"@type\": \"Song\",\n",
      "      \"id\": \"1234567890\",\n",
      "      \"title\": \"My Song\",\n",
      "      \"album\": {\n",
      "        \"@type\": \"Album\",\n",
      "        \"id\": \"abcdefghij\"\n",
      "      }\n",
      "    },\n",
      "    {\n",
      "      \"@type\": \"Song\",\n",
      "      \"id\": \"9012345678\",\n",
      "      \"title\": \"Your Song\",\n",
      "      \"album\": {\n",
      "        \"@type\": \"Album\",\n",
      "        \"id\": \"ijhgfedcba\"\n",
      "      }\n",
      "    },\n",
      "    // weitere Songs...\n",
      "  ]\n",
      "}\n",
      "```\n",
      "Quellen: [{'source': '../knowledge_base/ChinookData.json'}, {'source': '../knowledge_base/ChinookData.json'}, {'source': '../knowledge_base/ChinookData.json'}]\n"
     ]
    }
   ],
   "source": [
    "frage = \"Kannst du mir ein Linkml schema das die daten bzws das format sowie die relationen wiederspiegelt?\"\n",
    "antwort = rag_chain({\"query\": frage})\n",
    "\n",
    "print(\"Antwort:\", antwort[\"result\"])\n",
    "print(\"Quellen:\", [doc.metadata for doc in antwort[\"source_documents\"]])"
   ]
  }
 ],
 "metadata": {
  "kernelspec": {
   "display_name": ".venv",
   "language": "python",
   "name": "python3"
  },
  "language_info": {
   "codemirror_mode": {
    "name": "ipython",
    "version": 3
   },
   "file_extension": ".py",
   "mimetype": "text/x-python",
   "name": "python",
   "nbconvert_exporter": "python",
   "pygments_lexer": "ipython3",
   "version": "3.11.9"
  }
 },
 "nbformat": 4,
 "nbformat_minor": 5
}
