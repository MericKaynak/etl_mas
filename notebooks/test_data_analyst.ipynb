{
 "cells": [
  {
   "cell_type": "code",
   "execution_count": 68,
   "id": "e68e03e3",
   "metadata": {},
   "outputs": [],
   "source": [
    "import sqlite3\n",
    "\n",
    "import requests\n",
    "from langchain_community.utilities.sql_database import SQLDatabase\n",
    "from sqlalchemy import create_engine\n",
    "from sqlalchemy.pool import StaticPool\n",
    "from langchain.schema import AIMessage, HumanMessage\n",
    "from langchain_core.messages import ToolMessage\n",
    "\n",
    "\n",
    "def get_engine_for_chinook_db():\n",
    "    \"\"\"Pull sql file, populate in-memory database, and create engine.\"\"\"\n",
    "    url = \"https://raw.githubusercontent.com/lerocha/chinook-database/master/ChinookDatabase/DataSources/Chinook_Sqlite.sql\"\n",
    "    response = requests.get(url)\n",
    "    sql_script = response.text\n",
    "\n",
    "    connection = sqlite3.connect(\":memory:\", check_same_thread=False)\n",
    "    connection.executescript(sql_script)\n",
    "    return create_engine(\n",
    "        \"sqlite://\",\n",
    "        creator=lambda: connection,\n",
    "        poolclass=StaticPool,\n",
    "        connect_args={\"check_same_thread\": False},\n",
    "    )\n",
    "\n",
    "\n",
    "engine = get_engine_for_chinook_db()\n",
    "\n",
    "db = SQLDatabase(engine)"
   ]
  },
  {
   "cell_type": "code",
   "execution_count": 3,
   "id": "e9796407",
   "metadata": {},
   "outputs": [],
   "source": [
    "import getpass\n",
    "import os\n",
    "\n",
    "os.environ[\"OPENAI_API_KEY\"] = getpass.getpass(\"Enter API key for OpenAI: \")\n",
    "\n",
    "from langchain.chat_models import init_chat_model\n",
    "\n",
    "llm = init_chat_model(\"gpt-4o\", model_provider=\"openai\")"
   ]
  },
  {
   "cell_type": "code",
   "execution_count": 4,
   "id": "a49c06c3",
   "metadata": {},
   "outputs": [],
   "source": [
    "from langchain_community.agent_toolkits.sql.toolkit import SQLDatabaseToolkit\n",
    "\n",
    "toolkit = SQLDatabaseToolkit(db=db, llm=llm)"
   ]
  },
  {
   "cell_type": "code",
   "execution_count": 5,
   "id": "6ac5c299",
   "metadata": {},
   "outputs": [],
   "source": [
    "from langchain_community.tools.sql_database.tool import (\n",
    "    InfoSQLDatabaseTool,\n",
    "    ListSQLDatabaseTool,\n",
    "    QuerySQLCheckerTool,\n",
    "    QuerySQLDatabaseTool,\n",
    ")"
   ]
  },
  {
   "cell_type": "code",
   "execution_count": 6,
   "id": "ef57633c",
   "metadata": {},
   "outputs": [
    {
     "name": "stderr",
     "output_type": "stream",
     "text": [
      "c:\\Users\\meric\\Documents\\Bachelorarbeit\\etl_mas\\.venv\\Lib\\site-packages\\langsmith\\client.py:272: LangSmithMissingAPIKeyWarning: API key must be provided when using hosted LangSmith API\n",
      "  warnings.warn(\n"
     ]
    },
    {
     "name": "stdout",
     "output_type": "stream",
     "text": [
      "['dialect', 'top_k']\n"
     ]
    }
   ],
   "source": [
    "from langchain import hub\n",
    "\n",
    "prompt_template = hub.pull(\"langchain-ai/sql-agent-system-prompt\")\n",
    "\n",
    "assert len(prompt_template.messages) == 1\n",
    "print(prompt_template.input_variables)\n",
    "system_message = prompt_template.format(dialect=\"SQLite\", top_k=5)"
   ]
  },
  {
   "cell_type": "code",
   "execution_count": 7,
   "id": "fc6ead80",
   "metadata": {},
   "outputs": [],
   "source": [
    "from langgraph.prebuilt import create_react_agent\n",
    "\n",
    "agent_executor = create_react_agent(llm, toolkit.get_tools(), prompt=system_message)"
   ]
  },
  {
   "cell_type": "code",
   "execution_count": 62,
   "id": "94ed516c",
   "metadata": {},
   "outputs": [
    {
     "name": "stdout",
     "output_type": "stream",
     "text": [
      "content='Who are the top 3 best selling artists?' additional_kwargs={} response_metadata={} id='1d2c13e9-6452-42a8-86f5-afa370e910a4'\n",
      "================================\u001b[1m Human Message \u001b[0m=================================\n",
      "\n",
      "Who are the top 3 best selling artists?\n",
      "content='' additional_kwargs={'tool_calls': [{'id': 'call_U15qMaSnECRJPbOcV1S3lV26', 'function': {'arguments': '{}', 'name': 'sql_db_list_tables'}, 'type': 'function'}], 'refusal': None} response_metadata={'token_usage': {'completion_tokens': 12, 'prompt_tokens': 553, 'total_tokens': 565, 'completion_tokens_details': {'accepted_prediction_tokens': 0, 'audio_tokens': 0, 'reasoning_tokens': 0, 'rejected_prediction_tokens': 0}, 'prompt_tokens_details': {'audio_tokens': 0, 'cached_tokens': 0}}, 'model_name': 'gpt-4o-2024-08-06', 'system_fingerprint': 'fp_07871e2ad8', 'id': 'chatcmpl-ByfKCueCnhTdgSx7CEZxcHU4RjAsN', 'service_tier': 'default', 'finish_reason': 'tool_calls', 'logprobs': None} id='run--50922cec-c6f8-46c8-8ba3-be1ac3ca4ab8-0' tool_calls=[{'name': 'sql_db_list_tables', 'args': {}, 'id': 'call_U15qMaSnECRJPbOcV1S3lV26', 'type': 'tool_call'}] usage_metadata={'input_tokens': 553, 'output_tokens': 12, 'total_tokens': 565, 'input_token_details': {'audio': 0, 'cache_read': 0}, 'output_token_details': {'audio': 0, 'reasoning': 0}}\n",
      "==================================\u001b[1m Ai Message \u001b[0m==================================\n",
      "Tool Calls:\n",
      "  sql_db_list_tables (call_U15qMaSnECRJPbOcV1S3lV26)\n",
      " Call ID: call_U15qMaSnECRJPbOcV1S3lV26\n",
      "  Args:\n",
      "content='Album, Artist, Customer, Employee, Genre, Invoice, InvoiceLine, MediaType, Playlist, PlaylistTrack, Track' name='sql_db_list_tables' id='a41671f3-c95a-46cb-a30c-142791f8da18' tool_call_id='call_U15qMaSnECRJPbOcV1S3lV26'\n",
      "=================================\u001b[1m Tool Message \u001b[0m=================================\n",
      "Name: sql_db_list_tables\n",
      "\n",
      "Album, Artist, Customer, Employee, Genre, Invoice, InvoiceLine, MediaType, Playlist, PlaylistTrack, Track\n",
      "content='' additional_kwargs={'tool_calls': [{'id': 'call_rjKmRGwTIyvIFleJYAd8ab4o', 'function': {'arguments': '{\"table_names\":\"Artist, Album, InvoiceLine, Track\"}', 'name': 'sql_db_schema'}, 'type': 'function'}], 'refusal': None} response_metadata={'token_usage': {'completion_tokens': 23, 'prompt_tokens': 599, 'total_tokens': 622, 'completion_tokens_details': {'accepted_prediction_tokens': 0, 'audio_tokens': 0, 'reasoning_tokens': 0, 'rejected_prediction_tokens': 0}, 'prompt_tokens_details': {'audio_tokens': 0, 'cached_tokens': 0}}, 'model_name': 'gpt-4o-2024-08-06', 'system_fingerprint': 'fp_07871e2ad8', 'id': 'chatcmpl-ByfKCDcvPhDUa5tIFAwcRUaFBwFNY', 'service_tier': 'default', 'finish_reason': 'tool_calls', 'logprobs': None} id='run--386946f5-564e-43ef-b2fb-9d9f1f5d53c5-0' tool_calls=[{'name': 'sql_db_schema', 'args': {'table_names': 'Artist, Album, InvoiceLine, Track'}, 'id': 'call_rjKmRGwTIyvIFleJYAd8ab4o', 'type': 'tool_call'}] usage_metadata={'input_tokens': 599, 'output_tokens': 23, 'total_tokens': 622, 'input_token_details': {'audio': 0, 'cache_read': 0}, 'output_token_details': {'audio': 0, 'reasoning': 0}}\n",
      "==================================\u001b[1m Ai Message \u001b[0m==================================\n",
      "Tool Calls:\n",
      "  sql_db_schema (call_rjKmRGwTIyvIFleJYAd8ab4o)\n",
      " Call ID: call_rjKmRGwTIyvIFleJYAd8ab4o\n",
      "  Args:\n",
      "    table_names: Artist, Album, InvoiceLine, Track\n",
      "content='\\nCREATE TABLE \"Album\" (\\n\\t\"AlbumId\" INTEGER NOT NULL, \\n\\t\"Title\" NVARCHAR(160) NOT NULL, \\n\\t\"ArtistId\" INTEGER NOT NULL, \\n\\tPRIMARY KEY (\"AlbumId\"), \\n\\tFOREIGN KEY(\"ArtistId\") REFERENCES \"Artist\" (\"ArtistId\")\\n)\\n\\n/*\\n3 rows from Album table:\\nAlbumId\\tTitle\\tArtistId\\n1\\tFor Those About To Rock We Salute You\\t1\\n2\\tBalls to the Wall\\t2\\n3\\tRestless and Wild\\t2\\n*/\\n\\n\\nCREATE TABLE \"Artist\" (\\n\\t\"ArtistId\" INTEGER NOT NULL, \\n\\t\"Name\" NVARCHAR(120), \\n\\tPRIMARY KEY (\"ArtistId\")\\n)\\n\\n/*\\n3 rows from Artist table:\\nArtistId\\tName\\n1\\tAC/DC\\n2\\tAccept\\n3\\tAerosmith\\n*/\\n\\n\\nCREATE TABLE \"InvoiceLine\" (\\n\\t\"InvoiceLineId\" INTEGER NOT NULL, \\n\\t\"InvoiceId\" INTEGER NOT NULL, \\n\\t\"TrackId\" INTEGER NOT NULL, \\n\\t\"UnitPrice\" NUMERIC(10, 2) NOT NULL, \\n\\t\"Quantity\" INTEGER NOT NULL, \\n\\tPRIMARY KEY (\"InvoiceLineId\"), \\n\\tFOREIGN KEY(\"TrackId\") REFERENCES \"Track\" (\"TrackId\"), \\n\\tFOREIGN KEY(\"InvoiceId\") REFERENCES \"Invoice\" (\"InvoiceId\")\\n)\\n\\n/*\\n3 rows from InvoiceLine table:\\nInvoiceLineId\\tInvoiceId\\tTrackId\\tUnitPrice\\tQuantity\\n1\\t1\\t2\\t0.99\\t1\\n2\\t1\\t4\\t0.99\\t1\\n3\\t2\\t6\\t0.99\\t1\\n*/\\n\\n\\nCREATE TABLE \"Track\" (\\n\\t\"TrackId\" INTEGER NOT NULL, \\n\\t\"Name\" NVARCHAR(200) NOT NULL, \\n\\t\"AlbumId\" INTEGER, \\n\\t\"MediaTypeId\" INTEGER NOT NULL, \\n\\t\"GenreId\" INTEGER, \\n\\t\"Composer\" NVARCHAR(220), \\n\\t\"Milliseconds\" INTEGER NOT NULL, \\n\\t\"Bytes\" INTEGER, \\n\\t\"UnitPrice\" NUMERIC(10, 2) NOT NULL, \\n\\tPRIMARY KEY (\"TrackId\"), \\n\\tFOREIGN KEY(\"MediaTypeId\") REFERENCES \"MediaType\" (\"MediaTypeId\"), \\n\\tFOREIGN KEY(\"GenreId\") REFERENCES \"Genre\" (\"GenreId\"), \\n\\tFOREIGN KEY(\"AlbumId\") REFERENCES \"Album\" (\"AlbumId\")\\n)\\n\\n/*\\n3 rows from Track table:\\nTrackId\\tName\\tAlbumId\\tMediaTypeId\\tGenreId\\tComposer\\tMilliseconds\\tBytes\\tUnitPrice\\n1\\tFor Those About To Rock (We Salute You)\\t1\\t1\\t1\\tAngus Young, Malcolm Young, Brian Johnson\\t343719\\t11170334\\t0.99\\n2\\tBalls to the Wall\\t2\\t2\\t1\\tU. Dirkschneider, W. Hoffmann, H. Frank, P. Baltes, S. Kaufmann, G. Hoffmann\\t342562\\t5510424\\t0.99\\n3\\tFast As a Shark\\t3\\t2\\t1\\tF. Baltes, S. Kaufman, U. Dirkscneider & W. Hoffman\\t230619\\t3990994\\t0.99\\n*/' name='sql_db_schema' id='e27fc3d6-0313-44e7-aba1-327bbf81b857' tool_call_id='call_rjKmRGwTIyvIFleJYAd8ab4o'\n",
      "=================================\u001b[1m Tool Message \u001b[0m=================================\n",
      "Name: sql_db_schema\n",
      "\n",
      "\n",
      "CREATE TABLE \"Album\" (\n",
      "\t\"AlbumId\" INTEGER NOT NULL, \n",
      "\t\"Title\" NVARCHAR(160) NOT NULL, \n",
      "\t\"ArtistId\" INTEGER NOT NULL, \n",
      "\tPRIMARY KEY (\"AlbumId\"), \n",
      "\tFOREIGN KEY(\"ArtistId\") REFERENCES \"Artist\" (\"ArtistId\")\n",
      ")\n",
      "\n",
      "/*\n",
      "3 rows from Album table:\n",
      "AlbumId\tTitle\tArtistId\n",
      "1\tFor Those About To Rock We Salute You\t1\n",
      "2\tBalls to the Wall\t2\n",
      "3\tRestless and Wild\t2\n",
      "*/\n",
      "\n",
      "\n",
      "CREATE TABLE \"Artist\" (\n",
      "\t\"ArtistId\" INTEGER NOT NULL, \n",
      "\t\"Name\" NVARCHAR(120), \n",
      "\tPRIMARY KEY (\"ArtistId\")\n",
      ")\n",
      "\n",
      "/*\n",
      "3 rows from Artist table:\n",
      "ArtistId\tName\n",
      "1\tAC/DC\n",
      "2\tAccept\n",
      "3\tAerosmith\n",
      "*/\n",
      "\n",
      "\n",
      "CREATE TABLE \"InvoiceLine\" (\n",
      "\t\"InvoiceLineId\" INTEGER NOT NULL, \n",
      "\t\"InvoiceId\" INTEGER NOT NULL, \n",
      "\t\"TrackId\" INTEGER NOT NULL, \n",
      "\t\"UnitPrice\" NUMERIC(10, 2) NOT NULL, \n",
      "\t\"Quantity\" INTEGER NOT NULL, \n",
      "\tPRIMARY KEY (\"InvoiceLineId\"), \n",
      "\tFOREIGN KEY(\"TrackId\") REFERENCES \"Track\" (\"TrackId\"), \n",
      "\tFOREIGN KEY(\"InvoiceId\") REFERENCES \"Invoice\" (\"InvoiceId\")\n",
      ")\n",
      "\n",
      "/*\n",
      "3 rows from InvoiceLine table:\n",
      "InvoiceLineId\tInvoiceId\tTrackId\tUnitPrice\tQuantity\n",
      "1\t1\t2\t0.99\t1\n",
      "2\t1\t4\t0.99\t1\n",
      "3\t2\t6\t0.99\t1\n",
      "*/\n",
      "\n",
      "\n",
      "CREATE TABLE \"Track\" (\n",
      "\t\"TrackId\" INTEGER NOT NULL, \n",
      "\t\"Name\" NVARCHAR(200) NOT NULL, \n",
      "\t\"AlbumId\" INTEGER, \n",
      "\t\"MediaTypeId\" INTEGER NOT NULL, \n",
      "\t\"GenreId\" INTEGER, \n",
      "\t\"Composer\" NVARCHAR(220), \n",
      "\t\"Milliseconds\" INTEGER NOT NULL, \n",
      "\t\"Bytes\" INTEGER, \n",
      "\t\"UnitPrice\" NUMERIC(10, 2) NOT NULL, \n",
      "\tPRIMARY KEY (\"TrackId\"), \n",
      "\tFOREIGN KEY(\"MediaTypeId\") REFERENCES \"MediaType\" (\"MediaTypeId\"), \n",
      "\tFOREIGN KEY(\"GenreId\") REFERENCES \"Genre\" (\"GenreId\"), \n",
      "\tFOREIGN KEY(\"AlbumId\") REFERENCES \"Album\" (\"AlbumId\")\n",
      ")\n",
      "\n",
      "/*\n",
      "3 rows from Track table:\n",
      "TrackId\tName\tAlbumId\tMediaTypeId\tGenreId\tComposer\tMilliseconds\tBytes\tUnitPrice\n",
      "1\tFor Those About To Rock (We Salute You)\t1\t1\t1\tAngus Young, Malcolm Young, Brian Johnson\t343719\t11170334\t0.99\n",
      "2\tBalls to the Wall\t2\t2\t1\tU. Dirkschneider, W. Hoffmann, H. Frank, P. Baltes, S. Kaufmann, G. Hoffmann\t342562\t5510424\t0.99\n",
      "3\tFast As a Shark\t3\t2\t1\tF. Baltes, S. Kaufman, U. Dirkscneider & W. Hoffman\t230619\t3990994\t0.99\n",
      "*/\n",
      "content='' additional_kwargs={'tool_calls': [{'id': 'call_H1I5CDvNcctGorPF5aRBomWo', 'function': {'arguments': '{\"query\":\"SELECT ar.Name, SUM(il.Quantity) as TotalSales FROM Artist ar JOIN Album al ON ar.ArtistId = al.ArtistId JOIN Track t ON al.AlbumId = t.AlbumId JOIN InvoiceLine il ON t.TrackId = il.TrackId GROUP BY ar.ArtistId, ar.Name ORDER BY TotalSales DESC LIMIT 3;\"}', 'name': 'sql_db_query_checker'}, 'type': 'function'}], 'refusal': None} response_metadata={'token_usage': {'completion_tokens': 85, 'prompt_tokens': 1302, 'total_tokens': 1387, 'completion_tokens_details': {'accepted_prediction_tokens': 0, 'audio_tokens': 0, 'reasoning_tokens': 0, 'rejected_prediction_tokens': 0}, 'prompt_tokens_details': {'audio_tokens': 0, 'cached_tokens': 0}}, 'model_name': 'gpt-4o-2024-08-06', 'system_fingerprint': 'fp_07871e2ad8', 'id': 'chatcmpl-ByfKE6j3bNPevfEvVjgMymfGaycku', 'service_tier': 'default', 'finish_reason': 'tool_calls', 'logprobs': None} id='run--44b49ac2-2607-4b4f-bc1b-e84189a1006e-0' tool_calls=[{'name': 'sql_db_query_checker', 'args': {'query': 'SELECT ar.Name, SUM(il.Quantity) as TotalSales FROM Artist ar JOIN Album al ON ar.ArtistId = al.ArtistId JOIN Track t ON al.AlbumId = t.AlbumId JOIN InvoiceLine il ON t.TrackId = il.TrackId GROUP BY ar.ArtistId, ar.Name ORDER BY TotalSales DESC LIMIT 3;'}, 'id': 'call_H1I5CDvNcctGorPF5aRBomWo', 'type': 'tool_call'}] usage_metadata={'input_tokens': 1302, 'output_tokens': 85, 'total_tokens': 1387, 'input_token_details': {'audio': 0, 'cache_read': 0}, 'output_token_details': {'audio': 0, 'reasoning': 0}}\n",
      "==================================\u001b[1m Ai Message \u001b[0m==================================\n",
      "Tool Calls:\n",
      "  sql_db_query_checker (call_H1I5CDvNcctGorPF5aRBomWo)\n",
      " Call ID: call_H1I5CDvNcctGorPF5aRBomWo\n",
      "  Args:\n",
      "    query: SELECT ar.Name, SUM(il.Quantity) as TotalSales FROM Artist ar JOIN Album al ON ar.ArtistId = al.ArtistId JOIN Track t ON al.AlbumId = t.AlbumId JOIN InvoiceLine il ON t.TrackId = il.TrackId GROUP BY ar.ArtistId, ar.Name ORDER BY TotalSales DESC LIMIT 3;\n",
      "content='```sql\\nSELECT ar.Name, SUM(il.Quantity) as TotalSales \\nFROM Artist ar \\nJOIN Album al ON ar.ArtistId = al.ArtistId \\nJOIN Track t ON al.AlbumId = t.AlbumId \\nJOIN InvoiceLine il ON t.TrackId = il.TrackId \\nGROUP BY ar.ArtistId, ar.Name \\nORDER BY TotalSales DESC \\nLIMIT 3;\\n```' name='sql_db_query_checker' id='a56c1711-c025-40cb-8ba1-91133775eb1f' tool_call_id='call_H1I5CDvNcctGorPF5aRBomWo'\n",
      "=================================\u001b[1m Tool Message \u001b[0m=================================\n",
      "Name: sql_db_query_checker\n",
      "\n",
      "```sql\n",
      "SELECT ar.Name, SUM(il.Quantity) as TotalSales \n",
      "FROM Artist ar \n",
      "JOIN Album al ON ar.ArtistId = al.ArtistId \n",
      "JOIN Track t ON al.AlbumId = t.AlbumId \n",
      "JOIN InvoiceLine il ON t.TrackId = il.TrackId \n",
      "GROUP BY ar.ArtistId, ar.Name \n",
      "ORDER BY TotalSales DESC \n",
      "LIMIT 3;\n",
      "```\n",
      "content='' additional_kwargs={'tool_calls': [{'id': 'call_415aJyVuMSVQX2url4D5Rk7Z', 'function': {'arguments': '{\"query\":\"SELECT ar.Name, SUM(il.Quantity) as TotalSales FROM Artist ar JOIN Album al ON ar.ArtistId = al.ArtistId JOIN Track t ON al.AlbumId = t.AlbumId JOIN InvoiceLine il ON t.TrackId = il.TrackId GROUP BY ar.ArtistId, ar.Name ORDER BY TotalSales DESC LIMIT 3;\"}', 'name': 'sql_db_query'}, 'type': 'function'}], 'refusal': None} response_metadata={'token_usage': {'completion_tokens': 84, 'prompt_tokens': 1478, 'total_tokens': 1562, 'completion_tokens_details': {'accepted_prediction_tokens': 0, 'audio_tokens': 0, 'reasoning_tokens': 0, 'rejected_prediction_tokens': 0}, 'prompt_tokens_details': {'audio_tokens': 0, 'cached_tokens': 0}}, 'model_name': 'gpt-4o-2024-08-06', 'system_fingerprint': 'fp_07871e2ad8', 'id': 'chatcmpl-ByfKIfJUE8NDtb5tzilAiOkF9mTnJ', 'service_tier': 'default', 'finish_reason': 'tool_calls', 'logprobs': None} id='run--a13e3338-89ef-4e17-9b5a-53fe64c2ddd5-0' tool_calls=[{'name': 'sql_db_query', 'args': {'query': 'SELECT ar.Name, SUM(il.Quantity) as TotalSales FROM Artist ar JOIN Album al ON ar.ArtistId = al.ArtistId JOIN Track t ON al.AlbumId = t.AlbumId JOIN InvoiceLine il ON t.TrackId = il.TrackId GROUP BY ar.ArtistId, ar.Name ORDER BY TotalSales DESC LIMIT 3;'}, 'id': 'call_415aJyVuMSVQX2url4D5Rk7Z', 'type': 'tool_call'}] usage_metadata={'input_tokens': 1478, 'output_tokens': 84, 'total_tokens': 1562, 'input_token_details': {'audio': 0, 'cache_read': 0}, 'output_token_details': {'audio': 0, 'reasoning': 0}}\n",
      "==================================\u001b[1m Ai Message \u001b[0m==================================\n",
      "Tool Calls:\n",
      "  sql_db_query (call_415aJyVuMSVQX2url4D5Rk7Z)\n",
      " Call ID: call_415aJyVuMSVQX2url4D5Rk7Z\n",
      "  Args:\n",
      "    query: SELECT ar.Name, SUM(il.Quantity) as TotalSales FROM Artist ar JOIN Album al ON ar.ArtistId = al.ArtistId JOIN Track t ON al.AlbumId = t.AlbumId JOIN InvoiceLine il ON t.TrackId = il.TrackId GROUP BY ar.ArtistId, ar.Name ORDER BY TotalSales DESC LIMIT 3;\n",
      "content=\"[('Iron Maiden', 140), ('U2', 107), ('Metallica', 91)]\" name='sql_db_query' id='a1ac53ea-3fff-41c6-99fc-cbc686cb8a0e' tool_call_id='call_415aJyVuMSVQX2url4D5Rk7Z'\n",
      "=================================\u001b[1m Tool Message \u001b[0m=================================\n",
      "Name: sql_db_query\n",
      "\n",
      "[('Iron Maiden', 140), ('U2', 107), ('Metallica', 91)]\n",
      "content='The top 3 best-selling artists are:\\n\\n1. Iron Maiden with 140 total sales\\n2. U2 with 107 total sales\\n3. Metallica with 91 total sales' additional_kwargs={'refusal': None} response_metadata={'token_usage': {'completion_tokens': 39, 'prompt_tokens': 1593, 'total_tokens': 1632, 'completion_tokens_details': {'accepted_prediction_tokens': 0, 'audio_tokens': 0, 'reasoning_tokens': 0, 'rejected_prediction_tokens': 0}, 'prompt_tokens_details': {'audio_tokens': 0, 'cached_tokens': 1536}}, 'model_name': 'gpt-4o-2024-08-06', 'system_fingerprint': 'fp_07871e2ad8', 'id': 'chatcmpl-ByfKKLluWAzbSbjUuo1NbMNWLTqim', 'service_tier': 'default', 'finish_reason': 'stop', 'logprobs': None} id='run--2ce6d5a9-db3d-4403-813d-70744e7cfe09-0' usage_metadata={'input_tokens': 1593, 'output_tokens': 39, 'total_tokens': 1632, 'input_token_details': {'audio': 0, 'cache_read': 1536}, 'output_token_details': {'audio': 0, 'reasoning': 0}}\n",
      "==================================\u001b[1m Ai Message \u001b[0m==================================\n",
      "\n",
      "The top 3 best-selling artists are:\n",
      "\n",
      "1. Iron Maiden with 140 total sales\n",
      "2. U2 with 107 total sales\n",
      "3. Metallica with 91 total sales\n"
     ]
    }
   ],
   "source": [
    "example_query = \"Who are the top 3 best selling artists?\"\n",
    "\n",
    "events = agent_executor.stream(\n",
    "    {\"messages\": [(\"user\", example_query)]},\n",
    "    stream_mode=\"values\",\n",
    ")\n",
    "test = []\n",
    "for event in events:\n",
    "    print(event[\"messages\"][-1])\n",
    "    test.append(event)\n",
    "    event[\"messages\"][-1].pretty_print()"
   ]
  },
  {
   "cell_type": "code",
   "execution_count": 66,
   "id": "926aab11",
   "metadata": {},
   "outputs": [
    {
     "name": "stdout",
     "output_type": "stream",
     "text": [
      "[HumanMessage(content='Who are the top 3 best selling artists?', additional_kwargs={}, response_metadata={}, id='1d2c13e9-6452-42a8-86f5-afa370e910a4')]\n",
      "[HumanMessage(content='Who are the top 3 best selling artists?', additional_kwargs={}, response_metadata={}, id='1d2c13e9-6452-42a8-86f5-afa370e910a4'), AIMessage(content='', additional_kwargs={'tool_calls': [{'id': 'call_U15qMaSnECRJPbOcV1S3lV26', 'function': {'arguments': '{}', 'name': 'sql_db_list_tables'}, 'type': 'function'}], 'refusal': None}, response_metadata={'token_usage': {'completion_tokens': 12, 'prompt_tokens': 553, 'total_tokens': 565, 'completion_tokens_details': {'accepted_prediction_tokens': 0, 'audio_tokens': 0, 'reasoning_tokens': 0, 'rejected_prediction_tokens': 0}, 'prompt_tokens_details': {'audio_tokens': 0, 'cached_tokens': 0}}, 'model_name': 'gpt-4o-2024-08-06', 'system_fingerprint': 'fp_07871e2ad8', 'id': 'chatcmpl-ByfKCueCnhTdgSx7CEZxcHU4RjAsN', 'service_tier': 'default', 'finish_reason': 'tool_calls', 'logprobs': None}, id='run--50922cec-c6f8-46c8-8ba3-be1ac3ca4ab8-0', tool_calls=[{'name': 'sql_db_list_tables', 'args': {}, 'id': 'call_U15qMaSnECRJPbOcV1S3lV26', 'type': 'tool_call'}], usage_metadata={'input_tokens': 553, 'output_tokens': 12, 'total_tokens': 565, 'input_token_details': {'audio': 0, 'cache_read': 0}, 'output_token_details': {'audio': 0, 'reasoning': 0}})]\n",
      "[HumanMessage(content='Who are the top 3 best selling artists?', additional_kwargs={}, response_metadata={}, id='1d2c13e9-6452-42a8-86f5-afa370e910a4'), AIMessage(content='', additional_kwargs={'tool_calls': [{'id': 'call_U15qMaSnECRJPbOcV1S3lV26', 'function': {'arguments': '{}', 'name': 'sql_db_list_tables'}, 'type': 'function'}], 'refusal': None}, response_metadata={'token_usage': {'completion_tokens': 12, 'prompt_tokens': 553, 'total_tokens': 565, 'completion_tokens_details': {'accepted_prediction_tokens': 0, 'audio_tokens': 0, 'reasoning_tokens': 0, 'rejected_prediction_tokens': 0}, 'prompt_tokens_details': {'audio_tokens': 0, 'cached_tokens': 0}}, 'model_name': 'gpt-4o-2024-08-06', 'system_fingerprint': 'fp_07871e2ad8', 'id': 'chatcmpl-ByfKCueCnhTdgSx7CEZxcHU4RjAsN', 'service_tier': 'default', 'finish_reason': 'tool_calls', 'logprobs': None}, id='run--50922cec-c6f8-46c8-8ba3-be1ac3ca4ab8-0', tool_calls=[{'name': 'sql_db_list_tables', 'args': {}, 'id': 'call_U15qMaSnECRJPbOcV1S3lV26', 'type': 'tool_call'}], usage_metadata={'input_tokens': 553, 'output_tokens': 12, 'total_tokens': 565, 'input_token_details': {'audio': 0, 'cache_read': 0}, 'output_token_details': {'audio': 0, 'reasoning': 0}}), ToolMessage(content='Album, Artist, Customer, Employee, Genre, Invoice, InvoiceLine, MediaType, Playlist, PlaylistTrack, Track', name='sql_db_list_tables', id='a41671f3-c95a-46cb-a30c-142791f8da18', tool_call_id='call_U15qMaSnECRJPbOcV1S3lV26')]\n",
      "[HumanMessage(content='Who are the top 3 best selling artists?', additional_kwargs={}, response_metadata={}, id='1d2c13e9-6452-42a8-86f5-afa370e910a4'), AIMessage(content='', additional_kwargs={'tool_calls': [{'id': 'call_U15qMaSnECRJPbOcV1S3lV26', 'function': {'arguments': '{}', 'name': 'sql_db_list_tables'}, 'type': 'function'}], 'refusal': None}, response_metadata={'token_usage': {'completion_tokens': 12, 'prompt_tokens': 553, 'total_tokens': 565, 'completion_tokens_details': {'accepted_prediction_tokens': 0, 'audio_tokens': 0, 'reasoning_tokens': 0, 'rejected_prediction_tokens': 0}, 'prompt_tokens_details': {'audio_tokens': 0, 'cached_tokens': 0}}, 'model_name': 'gpt-4o-2024-08-06', 'system_fingerprint': 'fp_07871e2ad8', 'id': 'chatcmpl-ByfKCueCnhTdgSx7CEZxcHU4RjAsN', 'service_tier': 'default', 'finish_reason': 'tool_calls', 'logprobs': None}, id='run--50922cec-c6f8-46c8-8ba3-be1ac3ca4ab8-0', tool_calls=[{'name': 'sql_db_list_tables', 'args': {}, 'id': 'call_U15qMaSnECRJPbOcV1S3lV26', 'type': 'tool_call'}], usage_metadata={'input_tokens': 553, 'output_tokens': 12, 'total_tokens': 565, 'input_token_details': {'audio': 0, 'cache_read': 0}, 'output_token_details': {'audio': 0, 'reasoning': 0}}), ToolMessage(content='Album, Artist, Customer, Employee, Genre, Invoice, InvoiceLine, MediaType, Playlist, PlaylistTrack, Track', name='sql_db_list_tables', id='a41671f3-c95a-46cb-a30c-142791f8da18', tool_call_id='call_U15qMaSnECRJPbOcV1S3lV26'), AIMessage(content='', additional_kwargs={'tool_calls': [{'id': 'call_rjKmRGwTIyvIFleJYAd8ab4o', 'function': {'arguments': '{\"table_names\":\"Artist, Album, InvoiceLine, Track\"}', 'name': 'sql_db_schema'}, 'type': 'function'}], 'refusal': None}, response_metadata={'token_usage': {'completion_tokens': 23, 'prompt_tokens': 599, 'total_tokens': 622, 'completion_tokens_details': {'accepted_prediction_tokens': 0, 'audio_tokens': 0, 'reasoning_tokens': 0, 'rejected_prediction_tokens': 0}, 'prompt_tokens_details': {'audio_tokens': 0, 'cached_tokens': 0}}, 'model_name': 'gpt-4o-2024-08-06', 'system_fingerprint': 'fp_07871e2ad8', 'id': 'chatcmpl-ByfKCDcvPhDUa5tIFAwcRUaFBwFNY', 'service_tier': 'default', 'finish_reason': 'tool_calls', 'logprobs': None}, id='run--386946f5-564e-43ef-b2fb-9d9f1f5d53c5-0', tool_calls=[{'name': 'sql_db_schema', 'args': {'table_names': 'Artist, Album, InvoiceLine, Track'}, 'id': 'call_rjKmRGwTIyvIFleJYAd8ab4o', 'type': 'tool_call'}], usage_metadata={'input_tokens': 599, 'output_tokens': 23, 'total_tokens': 622, 'input_token_details': {'audio': 0, 'cache_read': 0}, 'output_token_details': {'audio': 0, 'reasoning': 0}})]\n",
      "[HumanMessage(content='Who are the top 3 best selling artists?', additional_kwargs={}, response_metadata={}, id='1d2c13e9-6452-42a8-86f5-afa370e910a4'), AIMessage(content='', additional_kwargs={'tool_calls': [{'id': 'call_U15qMaSnECRJPbOcV1S3lV26', 'function': {'arguments': '{}', 'name': 'sql_db_list_tables'}, 'type': 'function'}], 'refusal': None}, response_metadata={'token_usage': {'completion_tokens': 12, 'prompt_tokens': 553, 'total_tokens': 565, 'completion_tokens_details': {'accepted_prediction_tokens': 0, 'audio_tokens': 0, 'reasoning_tokens': 0, 'rejected_prediction_tokens': 0}, 'prompt_tokens_details': {'audio_tokens': 0, 'cached_tokens': 0}}, 'model_name': 'gpt-4o-2024-08-06', 'system_fingerprint': 'fp_07871e2ad8', 'id': 'chatcmpl-ByfKCueCnhTdgSx7CEZxcHU4RjAsN', 'service_tier': 'default', 'finish_reason': 'tool_calls', 'logprobs': None}, id='run--50922cec-c6f8-46c8-8ba3-be1ac3ca4ab8-0', tool_calls=[{'name': 'sql_db_list_tables', 'args': {}, 'id': 'call_U15qMaSnECRJPbOcV1S3lV26', 'type': 'tool_call'}], usage_metadata={'input_tokens': 553, 'output_tokens': 12, 'total_tokens': 565, 'input_token_details': {'audio': 0, 'cache_read': 0}, 'output_token_details': {'audio': 0, 'reasoning': 0}}), ToolMessage(content='Album, Artist, Customer, Employee, Genre, Invoice, InvoiceLine, MediaType, Playlist, PlaylistTrack, Track', name='sql_db_list_tables', id='a41671f3-c95a-46cb-a30c-142791f8da18', tool_call_id='call_U15qMaSnECRJPbOcV1S3lV26'), AIMessage(content='', additional_kwargs={'tool_calls': [{'id': 'call_rjKmRGwTIyvIFleJYAd8ab4o', 'function': {'arguments': '{\"table_names\":\"Artist, Album, InvoiceLine, Track\"}', 'name': 'sql_db_schema'}, 'type': 'function'}], 'refusal': None}, response_metadata={'token_usage': {'completion_tokens': 23, 'prompt_tokens': 599, 'total_tokens': 622, 'completion_tokens_details': {'accepted_prediction_tokens': 0, 'audio_tokens': 0, 'reasoning_tokens': 0, 'rejected_prediction_tokens': 0}, 'prompt_tokens_details': {'audio_tokens': 0, 'cached_tokens': 0}}, 'model_name': 'gpt-4o-2024-08-06', 'system_fingerprint': 'fp_07871e2ad8', 'id': 'chatcmpl-ByfKCDcvPhDUa5tIFAwcRUaFBwFNY', 'service_tier': 'default', 'finish_reason': 'tool_calls', 'logprobs': None}, id='run--386946f5-564e-43ef-b2fb-9d9f1f5d53c5-0', tool_calls=[{'name': 'sql_db_schema', 'args': {'table_names': 'Artist, Album, InvoiceLine, Track'}, 'id': 'call_rjKmRGwTIyvIFleJYAd8ab4o', 'type': 'tool_call'}], usage_metadata={'input_tokens': 599, 'output_tokens': 23, 'total_tokens': 622, 'input_token_details': {'audio': 0, 'cache_read': 0}, 'output_token_details': {'audio': 0, 'reasoning': 0}}), ToolMessage(content='\\nCREATE TABLE \"Album\" (\\n\\t\"AlbumId\" INTEGER NOT NULL, \\n\\t\"Title\" NVARCHAR(160) NOT NULL, \\n\\t\"ArtistId\" INTEGER NOT NULL, \\n\\tPRIMARY KEY (\"AlbumId\"), \\n\\tFOREIGN KEY(\"ArtistId\") REFERENCES \"Artist\" (\"ArtistId\")\\n)\\n\\n/*\\n3 rows from Album table:\\nAlbumId\\tTitle\\tArtistId\\n1\\tFor Those About To Rock We Salute You\\t1\\n2\\tBalls to the Wall\\t2\\n3\\tRestless and Wild\\t2\\n*/\\n\\n\\nCREATE TABLE \"Artist\" (\\n\\t\"ArtistId\" INTEGER NOT NULL, \\n\\t\"Name\" NVARCHAR(120), \\n\\tPRIMARY KEY (\"ArtistId\")\\n)\\n\\n/*\\n3 rows from Artist table:\\nArtistId\\tName\\n1\\tAC/DC\\n2\\tAccept\\n3\\tAerosmith\\n*/\\n\\n\\nCREATE TABLE \"InvoiceLine\" (\\n\\t\"InvoiceLineId\" INTEGER NOT NULL, \\n\\t\"InvoiceId\" INTEGER NOT NULL, \\n\\t\"TrackId\" INTEGER NOT NULL, \\n\\t\"UnitPrice\" NUMERIC(10, 2) NOT NULL, \\n\\t\"Quantity\" INTEGER NOT NULL, \\n\\tPRIMARY KEY (\"InvoiceLineId\"), \\n\\tFOREIGN KEY(\"TrackId\") REFERENCES \"Track\" (\"TrackId\"), \\n\\tFOREIGN KEY(\"InvoiceId\") REFERENCES \"Invoice\" (\"InvoiceId\")\\n)\\n\\n/*\\n3 rows from InvoiceLine table:\\nInvoiceLineId\\tInvoiceId\\tTrackId\\tUnitPrice\\tQuantity\\n1\\t1\\t2\\t0.99\\t1\\n2\\t1\\t4\\t0.99\\t1\\n3\\t2\\t6\\t0.99\\t1\\n*/\\n\\n\\nCREATE TABLE \"Track\" (\\n\\t\"TrackId\" INTEGER NOT NULL, \\n\\t\"Name\" NVARCHAR(200) NOT NULL, \\n\\t\"AlbumId\" INTEGER, \\n\\t\"MediaTypeId\" INTEGER NOT NULL, \\n\\t\"GenreId\" INTEGER, \\n\\t\"Composer\" NVARCHAR(220), \\n\\t\"Milliseconds\" INTEGER NOT NULL, \\n\\t\"Bytes\" INTEGER, \\n\\t\"UnitPrice\" NUMERIC(10, 2) NOT NULL, \\n\\tPRIMARY KEY (\"TrackId\"), \\n\\tFOREIGN KEY(\"MediaTypeId\") REFERENCES \"MediaType\" (\"MediaTypeId\"), \\n\\tFOREIGN KEY(\"GenreId\") REFERENCES \"Genre\" (\"GenreId\"), \\n\\tFOREIGN KEY(\"AlbumId\") REFERENCES \"Album\" (\"AlbumId\")\\n)\\n\\n/*\\n3 rows from Track table:\\nTrackId\\tName\\tAlbumId\\tMediaTypeId\\tGenreId\\tComposer\\tMilliseconds\\tBytes\\tUnitPrice\\n1\\tFor Those About To Rock (We Salute You)\\t1\\t1\\t1\\tAngus Young, Malcolm Young, Brian Johnson\\t343719\\t11170334\\t0.99\\n2\\tBalls to the Wall\\t2\\t2\\t1\\tU. Dirkschneider, W. Hoffmann, H. Frank, P. Baltes, S. Kaufmann, G. Hoffmann\\t342562\\t5510424\\t0.99\\n3\\tFast As a Shark\\t3\\t2\\t1\\tF. Baltes, S. Kaufman, U. Dirkscneider & W. Hoffman\\t230619\\t3990994\\t0.99\\n*/', name='sql_db_schema', id='e27fc3d6-0313-44e7-aba1-327bbf81b857', tool_call_id='call_rjKmRGwTIyvIFleJYAd8ab4o')]\n",
      "[HumanMessage(content='Who are the top 3 best selling artists?', additional_kwargs={}, response_metadata={}, id='1d2c13e9-6452-42a8-86f5-afa370e910a4'), AIMessage(content='', additional_kwargs={'tool_calls': [{'id': 'call_U15qMaSnECRJPbOcV1S3lV26', 'function': {'arguments': '{}', 'name': 'sql_db_list_tables'}, 'type': 'function'}], 'refusal': None}, response_metadata={'token_usage': {'completion_tokens': 12, 'prompt_tokens': 553, 'total_tokens': 565, 'completion_tokens_details': {'accepted_prediction_tokens': 0, 'audio_tokens': 0, 'reasoning_tokens': 0, 'rejected_prediction_tokens': 0}, 'prompt_tokens_details': {'audio_tokens': 0, 'cached_tokens': 0}}, 'model_name': 'gpt-4o-2024-08-06', 'system_fingerprint': 'fp_07871e2ad8', 'id': 'chatcmpl-ByfKCueCnhTdgSx7CEZxcHU4RjAsN', 'service_tier': 'default', 'finish_reason': 'tool_calls', 'logprobs': None}, id='run--50922cec-c6f8-46c8-8ba3-be1ac3ca4ab8-0', tool_calls=[{'name': 'sql_db_list_tables', 'args': {}, 'id': 'call_U15qMaSnECRJPbOcV1S3lV26', 'type': 'tool_call'}], usage_metadata={'input_tokens': 553, 'output_tokens': 12, 'total_tokens': 565, 'input_token_details': {'audio': 0, 'cache_read': 0}, 'output_token_details': {'audio': 0, 'reasoning': 0}}), ToolMessage(content='Album, Artist, Customer, Employee, Genre, Invoice, InvoiceLine, MediaType, Playlist, PlaylistTrack, Track', name='sql_db_list_tables', id='a41671f3-c95a-46cb-a30c-142791f8da18', tool_call_id='call_U15qMaSnECRJPbOcV1S3lV26'), AIMessage(content='', additional_kwargs={'tool_calls': [{'id': 'call_rjKmRGwTIyvIFleJYAd8ab4o', 'function': {'arguments': '{\"table_names\":\"Artist, Album, InvoiceLine, Track\"}', 'name': 'sql_db_schema'}, 'type': 'function'}], 'refusal': None}, response_metadata={'token_usage': {'completion_tokens': 23, 'prompt_tokens': 599, 'total_tokens': 622, 'completion_tokens_details': {'accepted_prediction_tokens': 0, 'audio_tokens': 0, 'reasoning_tokens': 0, 'rejected_prediction_tokens': 0}, 'prompt_tokens_details': {'audio_tokens': 0, 'cached_tokens': 0}}, 'model_name': 'gpt-4o-2024-08-06', 'system_fingerprint': 'fp_07871e2ad8', 'id': 'chatcmpl-ByfKCDcvPhDUa5tIFAwcRUaFBwFNY', 'service_tier': 'default', 'finish_reason': 'tool_calls', 'logprobs': None}, id='run--386946f5-564e-43ef-b2fb-9d9f1f5d53c5-0', tool_calls=[{'name': 'sql_db_schema', 'args': {'table_names': 'Artist, Album, InvoiceLine, Track'}, 'id': 'call_rjKmRGwTIyvIFleJYAd8ab4o', 'type': 'tool_call'}], usage_metadata={'input_tokens': 599, 'output_tokens': 23, 'total_tokens': 622, 'input_token_details': {'audio': 0, 'cache_read': 0}, 'output_token_details': {'audio': 0, 'reasoning': 0}}), ToolMessage(content='\\nCREATE TABLE \"Album\" (\\n\\t\"AlbumId\" INTEGER NOT NULL, \\n\\t\"Title\" NVARCHAR(160) NOT NULL, \\n\\t\"ArtistId\" INTEGER NOT NULL, \\n\\tPRIMARY KEY (\"AlbumId\"), \\n\\tFOREIGN KEY(\"ArtistId\") REFERENCES \"Artist\" (\"ArtistId\")\\n)\\n\\n/*\\n3 rows from Album table:\\nAlbumId\\tTitle\\tArtistId\\n1\\tFor Those About To Rock We Salute You\\t1\\n2\\tBalls to the Wall\\t2\\n3\\tRestless and Wild\\t2\\n*/\\n\\n\\nCREATE TABLE \"Artist\" (\\n\\t\"ArtistId\" INTEGER NOT NULL, \\n\\t\"Name\" NVARCHAR(120), \\n\\tPRIMARY KEY (\"ArtistId\")\\n)\\n\\n/*\\n3 rows from Artist table:\\nArtistId\\tName\\n1\\tAC/DC\\n2\\tAccept\\n3\\tAerosmith\\n*/\\n\\n\\nCREATE TABLE \"InvoiceLine\" (\\n\\t\"InvoiceLineId\" INTEGER NOT NULL, \\n\\t\"InvoiceId\" INTEGER NOT NULL, \\n\\t\"TrackId\" INTEGER NOT NULL, \\n\\t\"UnitPrice\" NUMERIC(10, 2) NOT NULL, \\n\\t\"Quantity\" INTEGER NOT NULL, \\n\\tPRIMARY KEY (\"InvoiceLineId\"), \\n\\tFOREIGN KEY(\"TrackId\") REFERENCES \"Track\" (\"TrackId\"), \\n\\tFOREIGN KEY(\"InvoiceId\") REFERENCES \"Invoice\" (\"InvoiceId\")\\n)\\n\\n/*\\n3 rows from InvoiceLine table:\\nInvoiceLineId\\tInvoiceId\\tTrackId\\tUnitPrice\\tQuantity\\n1\\t1\\t2\\t0.99\\t1\\n2\\t1\\t4\\t0.99\\t1\\n3\\t2\\t6\\t0.99\\t1\\n*/\\n\\n\\nCREATE TABLE \"Track\" (\\n\\t\"TrackId\" INTEGER NOT NULL, \\n\\t\"Name\" NVARCHAR(200) NOT NULL, \\n\\t\"AlbumId\" INTEGER, \\n\\t\"MediaTypeId\" INTEGER NOT NULL, \\n\\t\"GenreId\" INTEGER, \\n\\t\"Composer\" NVARCHAR(220), \\n\\t\"Milliseconds\" INTEGER NOT NULL, \\n\\t\"Bytes\" INTEGER, \\n\\t\"UnitPrice\" NUMERIC(10, 2) NOT NULL, \\n\\tPRIMARY KEY (\"TrackId\"), \\n\\tFOREIGN KEY(\"MediaTypeId\") REFERENCES \"MediaType\" (\"MediaTypeId\"), \\n\\tFOREIGN KEY(\"GenreId\") REFERENCES \"Genre\" (\"GenreId\"), \\n\\tFOREIGN KEY(\"AlbumId\") REFERENCES \"Album\" (\"AlbumId\")\\n)\\n\\n/*\\n3 rows from Track table:\\nTrackId\\tName\\tAlbumId\\tMediaTypeId\\tGenreId\\tComposer\\tMilliseconds\\tBytes\\tUnitPrice\\n1\\tFor Those About To Rock (We Salute You)\\t1\\t1\\t1\\tAngus Young, Malcolm Young, Brian Johnson\\t343719\\t11170334\\t0.99\\n2\\tBalls to the Wall\\t2\\t2\\t1\\tU. Dirkschneider, W. Hoffmann, H. Frank, P. Baltes, S. Kaufmann, G. Hoffmann\\t342562\\t5510424\\t0.99\\n3\\tFast As a Shark\\t3\\t2\\t1\\tF. Baltes, S. Kaufman, U. Dirkscneider & W. Hoffman\\t230619\\t3990994\\t0.99\\n*/', name='sql_db_schema', id='e27fc3d6-0313-44e7-aba1-327bbf81b857', tool_call_id='call_rjKmRGwTIyvIFleJYAd8ab4o'), AIMessage(content='', additional_kwargs={'tool_calls': [{'id': 'call_H1I5CDvNcctGorPF5aRBomWo', 'function': {'arguments': '{\"query\":\"SELECT ar.Name, SUM(il.Quantity) as TotalSales FROM Artist ar JOIN Album al ON ar.ArtistId = al.ArtistId JOIN Track t ON al.AlbumId = t.AlbumId JOIN InvoiceLine il ON t.TrackId = il.TrackId GROUP BY ar.ArtistId, ar.Name ORDER BY TotalSales DESC LIMIT 3;\"}', 'name': 'sql_db_query_checker'}, 'type': 'function'}], 'refusal': None}, response_metadata={'token_usage': {'completion_tokens': 85, 'prompt_tokens': 1302, 'total_tokens': 1387, 'completion_tokens_details': {'accepted_prediction_tokens': 0, 'audio_tokens': 0, 'reasoning_tokens': 0, 'rejected_prediction_tokens': 0}, 'prompt_tokens_details': {'audio_tokens': 0, 'cached_tokens': 0}}, 'model_name': 'gpt-4o-2024-08-06', 'system_fingerprint': 'fp_07871e2ad8', 'id': 'chatcmpl-ByfKE6j3bNPevfEvVjgMymfGaycku', 'service_tier': 'default', 'finish_reason': 'tool_calls', 'logprobs': None}, id='run--44b49ac2-2607-4b4f-bc1b-e84189a1006e-0', tool_calls=[{'name': 'sql_db_query_checker', 'args': {'query': 'SELECT ar.Name, SUM(il.Quantity) as TotalSales FROM Artist ar JOIN Album al ON ar.ArtistId = al.ArtistId JOIN Track t ON al.AlbumId = t.AlbumId JOIN InvoiceLine il ON t.TrackId = il.TrackId GROUP BY ar.ArtistId, ar.Name ORDER BY TotalSales DESC LIMIT 3;'}, 'id': 'call_H1I5CDvNcctGorPF5aRBomWo', 'type': 'tool_call'}], usage_metadata={'input_tokens': 1302, 'output_tokens': 85, 'total_tokens': 1387, 'input_token_details': {'audio': 0, 'cache_read': 0}, 'output_token_details': {'audio': 0, 'reasoning': 0}})]\n",
      "[HumanMessage(content='Who are the top 3 best selling artists?', additional_kwargs={}, response_metadata={}, id='1d2c13e9-6452-42a8-86f5-afa370e910a4'), AIMessage(content='', additional_kwargs={'tool_calls': [{'id': 'call_U15qMaSnECRJPbOcV1S3lV26', 'function': {'arguments': '{}', 'name': 'sql_db_list_tables'}, 'type': 'function'}], 'refusal': None}, response_metadata={'token_usage': {'completion_tokens': 12, 'prompt_tokens': 553, 'total_tokens': 565, 'completion_tokens_details': {'accepted_prediction_tokens': 0, 'audio_tokens': 0, 'reasoning_tokens': 0, 'rejected_prediction_tokens': 0}, 'prompt_tokens_details': {'audio_tokens': 0, 'cached_tokens': 0}}, 'model_name': 'gpt-4o-2024-08-06', 'system_fingerprint': 'fp_07871e2ad8', 'id': 'chatcmpl-ByfKCueCnhTdgSx7CEZxcHU4RjAsN', 'service_tier': 'default', 'finish_reason': 'tool_calls', 'logprobs': None}, id='run--50922cec-c6f8-46c8-8ba3-be1ac3ca4ab8-0', tool_calls=[{'name': 'sql_db_list_tables', 'args': {}, 'id': 'call_U15qMaSnECRJPbOcV1S3lV26', 'type': 'tool_call'}], usage_metadata={'input_tokens': 553, 'output_tokens': 12, 'total_tokens': 565, 'input_token_details': {'audio': 0, 'cache_read': 0}, 'output_token_details': {'audio': 0, 'reasoning': 0}}), ToolMessage(content='Album, Artist, Customer, Employee, Genre, Invoice, InvoiceLine, MediaType, Playlist, PlaylistTrack, Track', name='sql_db_list_tables', id='a41671f3-c95a-46cb-a30c-142791f8da18', tool_call_id='call_U15qMaSnECRJPbOcV1S3lV26'), AIMessage(content='', additional_kwargs={'tool_calls': [{'id': 'call_rjKmRGwTIyvIFleJYAd8ab4o', 'function': {'arguments': '{\"table_names\":\"Artist, Album, InvoiceLine, Track\"}', 'name': 'sql_db_schema'}, 'type': 'function'}], 'refusal': None}, response_metadata={'token_usage': {'completion_tokens': 23, 'prompt_tokens': 599, 'total_tokens': 622, 'completion_tokens_details': {'accepted_prediction_tokens': 0, 'audio_tokens': 0, 'reasoning_tokens': 0, 'rejected_prediction_tokens': 0}, 'prompt_tokens_details': {'audio_tokens': 0, 'cached_tokens': 0}}, 'model_name': 'gpt-4o-2024-08-06', 'system_fingerprint': 'fp_07871e2ad8', 'id': 'chatcmpl-ByfKCDcvPhDUa5tIFAwcRUaFBwFNY', 'service_tier': 'default', 'finish_reason': 'tool_calls', 'logprobs': None}, id='run--386946f5-564e-43ef-b2fb-9d9f1f5d53c5-0', tool_calls=[{'name': 'sql_db_schema', 'args': {'table_names': 'Artist, Album, InvoiceLine, Track'}, 'id': 'call_rjKmRGwTIyvIFleJYAd8ab4o', 'type': 'tool_call'}], usage_metadata={'input_tokens': 599, 'output_tokens': 23, 'total_tokens': 622, 'input_token_details': {'audio': 0, 'cache_read': 0}, 'output_token_details': {'audio': 0, 'reasoning': 0}}), ToolMessage(content='\\nCREATE TABLE \"Album\" (\\n\\t\"AlbumId\" INTEGER NOT NULL, \\n\\t\"Title\" NVARCHAR(160) NOT NULL, \\n\\t\"ArtistId\" INTEGER NOT NULL, \\n\\tPRIMARY KEY (\"AlbumId\"), \\n\\tFOREIGN KEY(\"ArtistId\") REFERENCES \"Artist\" (\"ArtistId\")\\n)\\n\\n/*\\n3 rows from Album table:\\nAlbumId\\tTitle\\tArtistId\\n1\\tFor Those About To Rock We Salute You\\t1\\n2\\tBalls to the Wall\\t2\\n3\\tRestless and Wild\\t2\\n*/\\n\\n\\nCREATE TABLE \"Artist\" (\\n\\t\"ArtistId\" INTEGER NOT NULL, \\n\\t\"Name\" NVARCHAR(120), \\n\\tPRIMARY KEY (\"ArtistId\")\\n)\\n\\n/*\\n3 rows from Artist table:\\nArtistId\\tName\\n1\\tAC/DC\\n2\\tAccept\\n3\\tAerosmith\\n*/\\n\\n\\nCREATE TABLE \"InvoiceLine\" (\\n\\t\"InvoiceLineId\" INTEGER NOT NULL, \\n\\t\"InvoiceId\" INTEGER NOT NULL, \\n\\t\"TrackId\" INTEGER NOT NULL, \\n\\t\"UnitPrice\" NUMERIC(10, 2) NOT NULL, \\n\\t\"Quantity\" INTEGER NOT NULL, \\n\\tPRIMARY KEY (\"InvoiceLineId\"), \\n\\tFOREIGN KEY(\"TrackId\") REFERENCES \"Track\" (\"TrackId\"), \\n\\tFOREIGN KEY(\"InvoiceId\") REFERENCES \"Invoice\" (\"InvoiceId\")\\n)\\n\\n/*\\n3 rows from InvoiceLine table:\\nInvoiceLineId\\tInvoiceId\\tTrackId\\tUnitPrice\\tQuantity\\n1\\t1\\t2\\t0.99\\t1\\n2\\t1\\t4\\t0.99\\t1\\n3\\t2\\t6\\t0.99\\t1\\n*/\\n\\n\\nCREATE TABLE \"Track\" (\\n\\t\"TrackId\" INTEGER NOT NULL, \\n\\t\"Name\" NVARCHAR(200) NOT NULL, \\n\\t\"AlbumId\" INTEGER, \\n\\t\"MediaTypeId\" INTEGER NOT NULL, \\n\\t\"GenreId\" INTEGER, \\n\\t\"Composer\" NVARCHAR(220), \\n\\t\"Milliseconds\" INTEGER NOT NULL, \\n\\t\"Bytes\" INTEGER, \\n\\t\"UnitPrice\" NUMERIC(10, 2) NOT NULL, \\n\\tPRIMARY KEY (\"TrackId\"), \\n\\tFOREIGN KEY(\"MediaTypeId\") REFERENCES \"MediaType\" (\"MediaTypeId\"), \\n\\tFOREIGN KEY(\"GenreId\") REFERENCES \"Genre\" (\"GenreId\"), \\n\\tFOREIGN KEY(\"AlbumId\") REFERENCES \"Album\" (\"AlbumId\")\\n)\\n\\n/*\\n3 rows from Track table:\\nTrackId\\tName\\tAlbumId\\tMediaTypeId\\tGenreId\\tComposer\\tMilliseconds\\tBytes\\tUnitPrice\\n1\\tFor Those About To Rock (We Salute You)\\t1\\t1\\t1\\tAngus Young, Malcolm Young, Brian Johnson\\t343719\\t11170334\\t0.99\\n2\\tBalls to the Wall\\t2\\t2\\t1\\tU. Dirkschneider, W. Hoffmann, H. Frank, P. Baltes, S. Kaufmann, G. Hoffmann\\t342562\\t5510424\\t0.99\\n3\\tFast As a Shark\\t3\\t2\\t1\\tF. Baltes, S. Kaufman, U. Dirkscneider & W. Hoffman\\t230619\\t3990994\\t0.99\\n*/', name='sql_db_schema', id='e27fc3d6-0313-44e7-aba1-327bbf81b857', tool_call_id='call_rjKmRGwTIyvIFleJYAd8ab4o'), AIMessage(content='', additional_kwargs={'tool_calls': [{'id': 'call_H1I5CDvNcctGorPF5aRBomWo', 'function': {'arguments': '{\"query\":\"SELECT ar.Name, SUM(il.Quantity) as TotalSales FROM Artist ar JOIN Album al ON ar.ArtistId = al.ArtistId JOIN Track t ON al.AlbumId = t.AlbumId JOIN InvoiceLine il ON t.TrackId = il.TrackId GROUP BY ar.ArtistId, ar.Name ORDER BY TotalSales DESC LIMIT 3;\"}', 'name': 'sql_db_query_checker'}, 'type': 'function'}], 'refusal': None}, response_metadata={'token_usage': {'completion_tokens': 85, 'prompt_tokens': 1302, 'total_tokens': 1387, 'completion_tokens_details': {'accepted_prediction_tokens': 0, 'audio_tokens': 0, 'reasoning_tokens': 0, 'rejected_prediction_tokens': 0}, 'prompt_tokens_details': {'audio_tokens': 0, 'cached_tokens': 0}}, 'model_name': 'gpt-4o-2024-08-06', 'system_fingerprint': 'fp_07871e2ad8', 'id': 'chatcmpl-ByfKE6j3bNPevfEvVjgMymfGaycku', 'service_tier': 'default', 'finish_reason': 'tool_calls', 'logprobs': None}, id='run--44b49ac2-2607-4b4f-bc1b-e84189a1006e-0', tool_calls=[{'name': 'sql_db_query_checker', 'args': {'query': 'SELECT ar.Name, SUM(il.Quantity) as TotalSales FROM Artist ar JOIN Album al ON ar.ArtistId = al.ArtistId JOIN Track t ON al.AlbumId = t.AlbumId JOIN InvoiceLine il ON t.TrackId = il.TrackId GROUP BY ar.ArtistId, ar.Name ORDER BY TotalSales DESC LIMIT 3;'}, 'id': 'call_H1I5CDvNcctGorPF5aRBomWo', 'type': 'tool_call'}], usage_metadata={'input_tokens': 1302, 'output_tokens': 85, 'total_tokens': 1387, 'input_token_details': {'audio': 0, 'cache_read': 0}, 'output_token_details': {'audio': 0, 'reasoning': 0}}), ToolMessage(content='```sql\\nSELECT ar.Name, SUM(il.Quantity) as TotalSales \\nFROM Artist ar \\nJOIN Album al ON ar.ArtistId = al.ArtistId \\nJOIN Track t ON al.AlbumId = t.AlbumId \\nJOIN InvoiceLine il ON t.TrackId = il.TrackId \\nGROUP BY ar.ArtistId, ar.Name \\nORDER BY TotalSales DESC \\nLIMIT 3;\\n```', name='sql_db_query_checker', id='a56c1711-c025-40cb-8ba1-91133775eb1f', tool_call_id='call_H1I5CDvNcctGorPF5aRBomWo')]\n",
      "[HumanMessage(content='Who are the top 3 best selling artists?', additional_kwargs={}, response_metadata={}, id='1d2c13e9-6452-42a8-86f5-afa370e910a4'), AIMessage(content='', additional_kwargs={'tool_calls': [{'id': 'call_U15qMaSnECRJPbOcV1S3lV26', 'function': {'arguments': '{}', 'name': 'sql_db_list_tables'}, 'type': 'function'}], 'refusal': None}, response_metadata={'token_usage': {'completion_tokens': 12, 'prompt_tokens': 553, 'total_tokens': 565, 'completion_tokens_details': {'accepted_prediction_tokens': 0, 'audio_tokens': 0, 'reasoning_tokens': 0, 'rejected_prediction_tokens': 0}, 'prompt_tokens_details': {'audio_tokens': 0, 'cached_tokens': 0}}, 'model_name': 'gpt-4o-2024-08-06', 'system_fingerprint': 'fp_07871e2ad8', 'id': 'chatcmpl-ByfKCueCnhTdgSx7CEZxcHU4RjAsN', 'service_tier': 'default', 'finish_reason': 'tool_calls', 'logprobs': None}, id='run--50922cec-c6f8-46c8-8ba3-be1ac3ca4ab8-0', tool_calls=[{'name': 'sql_db_list_tables', 'args': {}, 'id': 'call_U15qMaSnECRJPbOcV1S3lV26', 'type': 'tool_call'}], usage_metadata={'input_tokens': 553, 'output_tokens': 12, 'total_tokens': 565, 'input_token_details': {'audio': 0, 'cache_read': 0}, 'output_token_details': {'audio': 0, 'reasoning': 0}}), ToolMessage(content='Album, Artist, Customer, Employee, Genre, Invoice, InvoiceLine, MediaType, Playlist, PlaylistTrack, Track', name='sql_db_list_tables', id='a41671f3-c95a-46cb-a30c-142791f8da18', tool_call_id='call_U15qMaSnECRJPbOcV1S3lV26'), AIMessage(content='', additional_kwargs={'tool_calls': [{'id': 'call_rjKmRGwTIyvIFleJYAd8ab4o', 'function': {'arguments': '{\"table_names\":\"Artist, Album, InvoiceLine, Track\"}', 'name': 'sql_db_schema'}, 'type': 'function'}], 'refusal': None}, response_metadata={'token_usage': {'completion_tokens': 23, 'prompt_tokens': 599, 'total_tokens': 622, 'completion_tokens_details': {'accepted_prediction_tokens': 0, 'audio_tokens': 0, 'reasoning_tokens': 0, 'rejected_prediction_tokens': 0}, 'prompt_tokens_details': {'audio_tokens': 0, 'cached_tokens': 0}}, 'model_name': 'gpt-4o-2024-08-06', 'system_fingerprint': 'fp_07871e2ad8', 'id': 'chatcmpl-ByfKCDcvPhDUa5tIFAwcRUaFBwFNY', 'service_tier': 'default', 'finish_reason': 'tool_calls', 'logprobs': None}, id='run--386946f5-564e-43ef-b2fb-9d9f1f5d53c5-0', tool_calls=[{'name': 'sql_db_schema', 'args': {'table_names': 'Artist, Album, InvoiceLine, Track'}, 'id': 'call_rjKmRGwTIyvIFleJYAd8ab4o', 'type': 'tool_call'}], usage_metadata={'input_tokens': 599, 'output_tokens': 23, 'total_tokens': 622, 'input_token_details': {'audio': 0, 'cache_read': 0}, 'output_token_details': {'audio': 0, 'reasoning': 0}}), ToolMessage(content='\\nCREATE TABLE \"Album\" (\\n\\t\"AlbumId\" INTEGER NOT NULL, \\n\\t\"Title\" NVARCHAR(160) NOT NULL, \\n\\t\"ArtistId\" INTEGER NOT NULL, \\n\\tPRIMARY KEY (\"AlbumId\"), \\n\\tFOREIGN KEY(\"ArtistId\") REFERENCES \"Artist\" (\"ArtistId\")\\n)\\n\\n/*\\n3 rows from Album table:\\nAlbumId\\tTitle\\tArtistId\\n1\\tFor Those About To Rock We Salute You\\t1\\n2\\tBalls to the Wall\\t2\\n3\\tRestless and Wild\\t2\\n*/\\n\\n\\nCREATE TABLE \"Artist\" (\\n\\t\"ArtistId\" INTEGER NOT NULL, \\n\\t\"Name\" NVARCHAR(120), \\n\\tPRIMARY KEY (\"ArtistId\")\\n)\\n\\n/*\\n3 rows from Artist table:\\nArtistId\\tName\\n1\\tAC/DC\\n2\\tAccept\\n3\\tAerosmith\\n*/\\n\\n\\nCREATE TABLE \"InvoiceLine\" (\\n\\t\"InvoiceLineId\" INTEGER NOT NULL, \\n\\t\"InvoiceId\" INTEGER NOT NULL, \\n\\t\"TrackId\" INTEGER NOT NULL, \\n\\t\"UnitPrice\" NUMERIC(10, 2) NOT NULL, \\n\\t\"Quantity\" INTEGER NOT NULL, \\n\\tPRIMARY KEY (\"InvoiceLineId\"), \\n\\tFOREIGN KEY(\"TrackId\") REFERENCES \"Track\" (\"TrackId\"), \\n\\tFOREIGN KEY(\"InvoiceId\") REFERENCES \"Invoice\" (\"InvoiceId\")\\n)\\n\\n/*\\n3 rows from InvoiceLine table:\\nInvoiceLineId\\tInvoiceId\\tTrackId\\tUnitPrice\\tQuantity\\n1\\t1\\t2\\t0.99\\t1\\n2\\t1\\t4\\t0.99\\t1\\n3\\t2\\t6\\t0.99\\t1\\n*/\\n\\n\\nCREATE TABLE \"Track\" (\\n\\t\"TrackId\" INTEGER NOT NULL, \\n\\t\"Name\" NVARCHAR(200) NOT NULL, \\n\\t\"AlbumId\" INTEGER, \\n\\t\"MediaTypeId\" INTEGER NOT NULL, \\n\\t\"GenreId\" INTEGER, \\n\\t\"Composer\" NVARCHAR(220), \\n\\t\"Milliseconds\" INTEGER NOT NULL, \\n\\t\"Bytes\" INTEGER, \\n\\t\"UnitPrice\" NUMERIC(10, 2) NOT NULL, \\n\\tPRIMARY KEY (\"TrackId\"), \\n\\tFOREIGN KEY(\"MediaTypeId\") REFERENCES \"MediaType\" (\"MediaTypeId\"), \\n\\tFOREIGN KEY(\"GenreId\") REFERENCES \"Genre\" (\"GenreId\"), \\n\\tFOREIGN KEY(\"AlbumId\") REFERENCES \"Album\" (\"AlbumId\")\\n)\\n\\n/*\\n3 rows from Track table:\\nTrackId\\tName\\tAlbumId\\tMediaTypeId\\tGenreId\\tComposer\\tMilliseconds\\tBytes\\tUnitPrice\\n1\\tFor Those About To Rock (We Salute You)\\t1\\t1\\t1\\tAngus Young, Malcolm Young, Brian Johnson\\t343719\\t11170334\\t0.99\\n2\\tBalls to the Wall\\t2\\t2\\t1\\tU. Dirkschneider, W. Hoffmann, H. Frank, P. Baltes, S. Kaufmann, G. Hoffmann\\t342562\\t5510424\\t0.99\\n3\\tFast As a Shark\\t3\\t2\\t1\\tF. Baltes, S. Kaufman, U. Dirkscneider & W. Hoffman\\t230619\\t3990994\\t0.99\\n*/', name='sql_db_schema', id='e27fc3d6-0313-44e7-aba1-327bbf81b857', tool_call_id='call_rjKmRGwTIyvIFleJYAd8ab4o'), AIMessage(content='', additional_kwargs={'tool_calls': [{'id': 'call_H1I5CDvNcctGorPF5aRBomWo', 'function': {'arguments': '{\"query\":\"SELECT ar.Name, SUM(il.Quantity) as TotalSales FROM Artist ar JOIN Album al ON ar.ArtistId = al.ArtistId JOIN Track t ON al.AlbumId = t.AlbumId JOIN InvoiceLine il ON t.TrackId = il.TrackId GROUP BY ar.ArtistId, ar.Name ORDER BY TotalSales DESC LIMIT 3;\"}', 'name': 'sql_db_query_checker'}, 'type': 'function'}], 'refusal': None}, response_metadata={'token_usage': {'completion_tokens': 85, 'prompt_tokens': 1302, 'total_tokens': 1387, 'completion_tokens_details': {'accepted_prediction_tokens': 0, 'audio_tokens': 0, 'reasoning_tokens': 0, 'rejected_prediction_tokens': 0}, 'prompt_tokens_details': {'audio_tokens': 0, 'cached_tokens': 0}}, 'model_name': 'gpt-4o-2024-08-06', 'system_fingerprint': 'fp_07871e2ad8', 'id': 'chatcmpl-ByfKE6j3bNPevfEvVjgMymfGaycku', 'service_tier': 'default', 'finish_reason': 'tool_calls', 'logprobs': None}, id='run--44b49ac2-2607-4b4f-bc1b-e84189a1006e-0', tool_calls=[{'name': 'sql_db_query_checker', 'args': {'query': 'SELECT ar.Name, SUM(il.Quantity) as TotalSales FROM Artist ar JOIN Album al ON ar.ArtistId = al.ArtistId JOIN Track t ON al.AlbumId = t.AlbumId JOIN InvoiceLine il ON t.TrackId = il.TrackId GROUP BY ar.ArtistId, ar.Name ORDER BY TotalSales DESC LIMIT 3;'}, 'id': 'call_H1I5CDvNcctGorPF5aRBomWo', 'type': 'tool_call'}], usage_metadata={'input_tokens': 1302, 'output_tokens': 85, 'total_tokens': 1387, 'input_token_details': {'audio': 0, 'cache_read': 0}, 'output_token_details': {'audio': 0, 'reasoning': 0}}), ToolMessage(content='```sql\\nSELECT ar.Name, SUM(il.Quantity) as TotalSales \\nFROM Artist ar \\nJOIN Album al ON ar.ArtistId = al.ArtistId \\nJOIN Track t ON al.AlbumId = t.AlbumId \\nJOIN InvoiceLine il ON t.TrackId = il.TrackId \\nGROUP BY ar.ArtistId, ar.Name \\nORDER BY TotalSales DESC \\nLIMIT 3;\\n```', name='sql_db_query_checker', id='a56c1711-c025-40cb-8ba1-91133775eb1f', tool_call_id='call_H1I5CDvNcctGorPF5aRBomWo'), AIMessage(content='', additional_kwargs={'tool_calls': [{'id': 'call_415aJyVuMSVQX2url4D5Rk7Z', 'function': {'arguments': '{\"query\":\"SELECT ar.Name, SUM(il.Quantity) as TotalSales FROM Artist ar JOIN Album al ON ar.ArtistId = al.ArtistId JOIN Track t ON al.AlbumId = t.AlbumId JOIN InvoiceLine il ON t.TrackId = il.TrackId GROUP BY ar.ArtistId, ar.Name ORDER BY TotalSales DESC LIMIT 3;\"}', 'name': 'sql_db_query'}, 'type': 'function'}], 'refusal': None}, response_metadata={'token_usage': {'completion_tokens': 84, 'prompt_tokens': 1478, 'total_tokens': 1562, 'completion_tokens_details': {'accepted_prediction_tokens': 0, 'audio_tokens': 0, 'reasoning_tokens': 0, 'rejected_prediction_tokens': 0}, 'prompt_tokens_details': {'audio_tokens': 0, 'cached_tokens': 0}}, 'model_name': 'gpt-4o-2024-08-06', 'system_fingerprint': 'fp_07871e2ad8', 'id': 'chatcmpl-ByfKIfJUE8NDtb5tzilAiOkF9mTnJ', 'service_tier': 'default', 'finish_reason': 'tool_calls', 'logprobs': None}, id='run--a13e3338-89ef-4e17-9b5a-53fe64c2ddd5-0', tool_calls=[{'name': 'sql_db_query', 'args': {'query': 'SELECT ar.Name, SUM(il.Quantity) as TotalSales FROM Artist ar JOIN Album al ON ar.ArtistId = al.ArtistId JOIN Track t ON al.AlbumId = t.AlbumId JOIN InvoiceLine il ON t.TrackId = il.TrackId GROUP BY ar.ArtistId, ar.Name ORDER BY TotalSales DESC LIMIT 3;'}, 'id': 'call_415aJyVuMSVQX2url4D5Rk7Z', 'type': 'tool_call'}], usage_metadata={'input_tokens': 1478, 'output_tokens': 84, 'total_tokens': 1562, 'input_token_details': {'audio': 0, 'cache_read': 0}, 'output_token_details': {'audio': 0, 'reasoning': 0}})]\n",
      "[HumanMessage(content='Who are the top 3 best selling artists?', additional_kwargs={}, response_metadata={}, id='1d2c13e9-6452-42a8-86f5-afa370e910a4'), AIMessage(content='', additional_kwargs={'tool_calls': [{'id': 'call_U15qMaSnECRJPbOcV1S3lV26', 'function': {'arguments': '{}', 'name': 'sql_db_list_tables'}, 'type': 'function'}], 'refusal': None}, response_metadata={'token_usage': {'completion_tokens': 12, 'prompt_tokens': 553, 'total_tokens': 565, 'completion_tokens_details': {'accepted_prediction_tokens': 0, 'audio_tokens': 0, 'reasoning_tokens': 0, 'rejected_prediction_tokens': 0}, 'prompt_tokens_details': {'audio_tokens': 0, 'cached_tokens': 0}}, 'model_name': 'gpt-4o-2024-08-06', 'system_fingerprint': 'fp_07871e2ad8', 'id': 'chatcmpl-ByfKCueCnhTdgSx7CEZxcHU4RjAsN', 'service_tier': 'default', 'finish_reason': 'tool_calls', 'logprobs': None}, id='run--50922cec-c6f8-46c8-8ba3-be1ac3ca4ab8-0', tool_calls=[{'name': 'sql_db_list_tables', 'args': {}, 'id': 'call_U15qMaSnECRJPbOcV1S3lV26', 'type': 'tool_call'}], usage_metadata={'input_tokens': 553, 'output_tokens': 12, 'total_tokens': 565, 'input_token_details': {'audio': 0, 'cache_read': 0}, 'output_token_details': {'audio': 0, 'reasoning': 0}}), ToolMessage(content='Album, Artist, Customer, Employee, Genre, Invoice, InvoiceLine, MediaType, Playlist, PlaylistTrack, Track', name='sql_db_list_tables', id='a41671f3-c95a-46cb-a30c-142791f8da18', tool_call_id='call_U15qMaSnECRJPbOcV1S3lV26'), AIMessage(content='', additional_kwargs={'tool_calls': [{'id': 'call_rjKmRGwTIyvIFleJYAd8ab4o', 'function': {'arguments': '{\"table_names\":\"Artist, Album, InvoiceLine, Track\"}', 'name': 'sql_db_schema'}, 'type': 'function'}], 'refusal': None}, response_metadata={'token_usage': {'completion_tokens': 23, 'prompt_tokens': 599, 'total_tokens': 622, 'completion_tokens_details': {'accepted_prediction_tokens': 0, 'audio_tokens': 0, 'reasoning_tokens': 0, 'rejected_prediction_tokens': 0}, 'prompt_tokens_details': {'audio_tokens': 0, 'cached_tokens': 0}}, 'model_name': 'gpt-4o-2024-08-06', 'system_fingerprint': 'fp_07871e2ad8', 'id': 'chatcmpl-ByfKCDcvPhDUa5tIFAwcRUaFBwFNY', 'service_tier': 'default', 'finish_reason': 'tool_calls', 'logprobs': None}, id='run--386946f5-564e-43ef-b2fb-9d9f1f5d53c5-0', tool_calls=[{'name': 'sql_db_schema', 'args': {'table_names': 'Artist, Album, InvoiceLine, Track'}, 'id': 'call_rjKmRGwTIyvIFleJYAd8ab4o', 'type': 'tool_call'}], usage_metadata={'input_tokens': 599, 'output_tokens': 23, 'total_tokens': 622, 'input_token_details': {'audio': 0, 'cache_read': 0}, 'output_token_details': {'audio': 0, 'reasoning': 0}}), ToolMessage(content='\\nCREATE TABLE \"Album\" (\\n\\t\"AlbumId\" INTEGER NOT NULL, \\n\\t\"Title\" NVARCHAR(160) NOT NULL, \\n\\t\"ArtistId\" INTEGER NOT NULL, \\n\\tPRIMARY KEY (\"AlbumId\"), \\n\\tFOREIGN KEY(\"ArtistId\") REFERENCES \"Artist\" (\"ArtistId\")\\n)\\n\\n/*\\n3 rows from Album table:\\nAlbumId\\tTitle\\tArtistId\\n1\\tFor Those About To Rock We Salute You\\t1\\n2\\tBalls to the Wall\\t2\\n3\\tRestless and Wild\\t2\\n*/\\n\\n\\nCREATE TABLE \"Artist\" (\\n\\t\"ArtistId\" INTEGER NOT NULL, \\n\\t\"Name\" NVARCHAR(120), \\n\\tPRIMARY KEY (\"ArtistId\")\\n)\\n\\n/*\\n3 rows from Artist table:\\nArtistId\\tName\\n1\\tAC/DC\\n2\\tAccept\\n3\\tAerosmith\\n*/\\n\\n\\nCREATE TABLE \"InvoiceLine\" (\\n\\t\"InvoiceLineId\" INTEGER NOT NULL, \\n\\t\"InvoiceId\" INTEGER NOT NULL, \\n\\t\"TrackId\" INTEGER NOT NULL, \\n\\t\"UnitPrice\" NUMERIC(10, 2) NOT NULL, \\n\\t\"Quantity\" INTEGER NOT NULL, \\n\\tPRIMARY KEY (\"InvoiceLineId\"), \\n\\tFOREIGN KEY(\"TrackId\") REFERENCES \"Track\" (\"TrackId\"), \\n\\tFOREIGN KEY(\"InvoiceId\") REFERENCES \"Invoice\" (\"InvoiceId\")\\n)\\n\\n/*\\n3 rows from InvoiceLine table:\\nInvoiceLineId\\tInvoiceId\\tTrackId\\tUnitPrice\\tQuantity\\n1\\t1\\t2\\t0.99\\t1\\n2\\t1\\t4\\t0.99\\t1\\n3\\t2\\t6\\t0.99\\t1\\n*/\\n\\n\\nCREATE TABLE \"Track\" (\\n\\t\"TrackId\" INTEGER NOT NULL, \\n\\t\"Name\" NVARCHAR(200) NOT NULL, \\n\\t\"AlbumId\" INTEGER, \\n\\t\"MediaTypeId\" INTEGER NOT NULL, \\n\\t\"GenreId\" INTEGER, \\n\\t\"Composer\" NVARCHAR(220), \\n\\t\"Milliseconds\" INTEGER NOT NULL, \\n\\t\"Bytes\" INTEGER, \\n\\t\"UnitPrice\" NUMERIC(10, 2) NOT NULL, \\n\\tPRIMARY KEY (\"TrackId\"), \\n\\tFOREIGN KEY(\"MediaTypeId\") REFERENCES \"MediaType\" (\"MediaTypeId\"), \\n\\tFOREIGN KEY(\"GenreId\") REFERENCES \"Genre\" (\"GenreId\"), \\n\\tFOREIGN KEY(\"AlbumId\") REFERENCES \"Album\" (\"AlbumId\")\\n)\\n\\n/*\\n3 rows from Track table:\\nTrackId\\tName\\tAlbumId\\tMediaTypeId\\tGenreId\\tComposer\\tMilliseconds\\tBytes\\tUnitPrice\\n1\\tFor Those About To Rock (We Salute You)\\t1\\t1\\t1\\tAngus Young, Malcolm Young, Brian Johnson\\t343719\\t11170334\\t0.99\\n2\\tBalls to the Wall\\t2\\t2\\t1\\tU. Dirkschneider, W. Hoffmann, H. Frank, P. Baltes, S. Kaufmann, G. Hoffmann\\t342562\\t5510424\\t0.99\\n3\\tFast As a Shark\\t3\\t2\\t1\\tF. Baltes, S. Kaufman, U. Dirkscneider & W. Hoffman\\t230619\\t3990994\\t0.99\\n*/', name='sql_db_schema', id='e27fc3d6-0313-44e7-aba1-327bbf81b857', tool_call_id='call_rjKmRGwTIyvIFleJYAd8ab4o'), AIMessage(content='', additional_kwargs={'tool_calls': [{'id': 'call_H1I5CDvNcctGorPF5aRBomWo', 'function': {'arguments': '{\"query\":\"SELECT ar.Name, SUM(il.Quantity) as TotalSales FROM Artist ar JOIN Album al ON ar.ArtistId = al.ArtistId JOIN Track t ON al.AlbumId = t.AlbumId JOIN InvoiceLine il ON t.TrackId = il.TrackId GROUP BY ar.ArtistId, ar.Name ORDER BY TotalSales DESC LIMIT 3;\"}', 'name': 'sql_db_query_checker'}, 'type': 'function'}], 'refusal': None}, response_metadata={'token_usage': {'completion_tokens': 85, 'prompt_tokens': 1302, 'total_tokens': 1387, 'completion_tokens_details': {'accepted_prediction_tokens': 0, 'audio_tokens': 0, 'reasoning_tokens': 0, 'rejected_prediction_tokens': 0}, 'prompt_tokens_details': {'audio_tokens': 0, 'cached_tokens': 0}}, 'model_name': 'gpt-4o-2024-08-06', 'system_fingerprint': 'fp_07871e2ad8', 'id': 'chatcmpl-ByfKE6j3bNPevfEvVjgMymfGaycku', 'service_tier': 'default', 'finish_reason': 'tool_calls', 'logprobs': None}, id='run--44b49ac2-2607-4b4f-bc1b-e84189a1006e-0', tool_calls=[{'name': 'sql_db_query_checker', 'args': {'query': 'SELECT ar.Name, SUM(il.Quantity) as TotalSales FROM Artist ar JOIN Album al ON ar.ArtistId = al.ArtistId JOIN Track t ON al.AlbumId = t.AlbumId JOIN InvoiceLine il ON t.TrackId = il.TrackId GROUP BY ar.ArtistId, ar.Name ORDER BY TotalSales DESC LIMIT 3;'}, 'id': 'call_H1I5CDvNcctGorPF5aRBomWo', 'type': 'tool_call'}], usage_metadata={'input_tokens': 1302, 'output_tokens': 85, 'total_tokens': 1387, 'input_token_details': {'audio': 0, 'cache_read': 0}, 'output_token_details': {'audio': 0, 'reasoning': 0}}), ToolMessage(content='```sql\\nSELECT ar.Name, SUM(il.Quantity) as TotalSales \\nFROM Artist ar \\nJOIN Album al ON ar.ArtistId = al.ArtistId \\nJOIN Track t ON al.AlbumId = t.AlbumId \\nJOIN InvoiceLine il ON t.TrackId = il.TrackId \\nGROUP BY ar.ArtistId, ar.Name \\nORDER BY TotalSales DESC \\nLIMIT 3;\\n```', name='sql_db_query_checker', id='a56c1711-c025-40cb-8ba1-91133775eb1f', tool_call_id='call_H1I5CDvNcctGorPF5aRBomWo'), AIMessage(content='', additional_kwargs={'tool_calls': [{'id': 'call_415aJyVuMSVQX2url4D5Rk7Z', 'function': {'arguments': '{\"query\":\"SELECT ar.Name, SUM(il.Quantity) as TotalSales FROM Artist ar JOIN Album al ON ar.ArtistId = al.ArtistId JOIN Track t ON al.AlbumId = t.AlbumId JOIN InvoiceLine il ON t.TrackId = il.TrackId GROUP BY ar.ArtistId, ar.Name ORDER BY TotalSales DESC LIMIT 3;\"}', 'name': 'sql_db_query'}, 'type': 'function'}], 'refusal': None}, response_metadata={'token_usage': {'completion_tokens': 84, 'prompt_tokens': 1478, 'total_tokens': 1562, 'completion_tokens_details': {'accepted_prediction_tokens': 0, 'audio_tokens': 0, 'reasoning_tokens': 0, 'rejected_prediction_tokens': 0}, 'prompt_tokens_details': {'audio_tokens': 0, 'cached_tokens': 0}}, 'model_name': 'gpt-4o-2024-08-06', 'system_fingerprint': 'fp_07871e2ad8', 'id': 'chatcmpl-ByfKIfJUE8NDtb5tzilAiOkF9mTnJ', 'service_tier': 'default', 'finish_reason': 'tool_calls', 'logprobs': None}, id='run--a13e3338-89ef-4e17-9b5a-53fe64c2ddd5-0', tool_calls=[{'name': 'sql_db_query', 'args': {'query': 'SELECT ar.Name, SUM(il.Quantity) as TotalSales FROM Artist ar JOIN Album al ON ar.ArtistId = al.ArtistId JOIN Track t ON al.AlbumId = t.AlbumId JOIN InvoiceLine il ON t.TrackId = il.TrackId GROUP BY ar.ArtistId, ar.Name ORDER BY TotalSales DESC LIMIT 3;'}, 'id': 'call_415aJyVuMSVQX2url4D5Rk7Z', 'type': 'tool_call'}], usage_metadata={'input_tokens': 1478, 'output_tokens': 84, 'total_tokens': 1562, 'input_token_details': {'audio': 0, 'cache_read': 0}, 'output_token_details': {'audio': 0, 'reasoning': 0}}), ToolMessage(content=\"[('Iron Maiden', 140), ('U2', 107), ('Metallica', 91)]\", name='sql_db_query', id='a1ac53ea-3fff-41c6-99fc-cbc686cb8a0e', tool_call_id='call_415aJyVuMSVQX2url4D5Rk7Z')]\n",
      "[HumanMessage(content='Who are the top 3 best selling artists?', additional_kwargs={}, response_metadata={}, id='1d2c13e9-6452-42a8-86f5-afa370e910a4'), AIMessage(content='', additional_kwargs={'tool_calls': [{'id': 'call_U15qMaSnECRJPbOcV1S3lV26', 'function': {'arguments': '{}', 'name': 'sql_db_list_tables'}, 'type': 'function'}], 'refusal': None}, response_metadata={'token_usage': {'completion_tokens': 12, 'prompt_tokens': 553, 'total_tokens': 565, 'completion_tokens_details': {'accepted_prediction_tokens': 0, 'audio_tokens': 0, 'reasoning_tokens': 0, 'rejected_prediction_tokens': 0}, 'prompt_tokens_details': {'audio_tokens': 0, 'cached_tokens': 0}}, 'model_name': 'gpt-4o-2024-08-06', 'system_fingerprint': 'fp_07871e2ad8', 'id': 'chatcmpl-ByfKCueCnhTdgSx7CEZxcHU4RjAsN', 'service_tier': 'default', 'finish_reason': 'tool_calls', 'logprobs': None}, id='run--50922cec-c6f8-46c8-8ba3-be1ac3ca4ab8-0', tool_calls=[{'name': 'sql_db_list_tables', 'args': {}, 'id': 'call_U15qMaSnECRJPbOcV1S3lV26', 'type': 'tool_call'}], usage_metadata={'input_tokens': 553, 'output_tokens': 12, 'total_tokens': 565, 'input_token_details': {'audio': 0, 'cache_read': 0}, 'output_token_details': {'audio': 0, 'reasoning': 0}}), ToolMessage(content='Album, Artist, Customer, Employee, Genre, Invoice, InvoiceLine, MediaType, Playlist, PlaylistTrack, Track', name='sql_db_list_tables', id='a41671f3-c95a-46cb-a30c-142791f8da18', tool_call_id='call_U15qMaSnECRJPbOcV1S3lV26'), AIMessage(content='', additional_kwargs={'tool_calls': [{'id': 'call_rjKmRGwTIyvIFleJYAd8ab4o', 'function': {'arguments': '{\"table_names\":\"Artist, Album, InvoiceLine, Track\"}', 'name': 'sql_db_schema'}, 'type': 'function'}], 'refusal': None}, response_metadata={'token_usage': {'completion_tokens': 23, 'prompt_tokens': 599, 'total_tokens': 622, 'completion_tokens_details': {'accepted_prediction_tokens': 0, 'audio_tokens': 0, 'reasoning_tokens': 0, 'rejected_prediction_tokens': 0}, 'prompt_tokens_details': {'audio_tokens': 0, 'cached_tokens': 0}}, 'model_name': 'gpt-4o-2024-08-06', 'system_fingerprint': 'fp_07871e2ad8', 'id': 'chatcmpl-ByfKCDcvPhDUa5tIFAwcRUaFBwFNY', 'service_tier': 'default', 'finish_reason': 'tool_calls', 'logprobs': None}, id='run--386946f5-564e-43ef-b2fb-9d9f1f5d53c5-0', tool_calls=[{'name': 'sql_db_schema', 'args': {'table_names': 'Artist, Album, InvoiceLine, Track'}, 'id': 'call_rjKmRGwTIyvIFleJYAd8ab4o', 'type': 'tool_call'}], usage_metadata={'input_tokens': 599, 'output_tokens': 23, 'total_tokens': 622, 'input_token_details': {'audio': 0, 'cache_read': 0}, 'output_token_details': {'audio': 0, 'reasoning': 0}}), ToolMessage(content='\\nCREATE TABLE \"Album\" (\\n\\t\"AlbumId\" INTEGER NOT NULL, \\n\\t\"Title\" NVARCHAR(160) NOT NULL, \\n\\t\"ArtistId\" INTEGER NOT NULL, \\n\\tPRIMARY KEY (\"AlbumId\"), \\n\\tFOREIGN KEY(\"ArtistId\") REFERENCES \"Artist\" (\"ArtistId\")\\n)\\n\\n/*\\n3 rows from Album table:\\nAlbumId\\tTitle\\tArtistId\\n1\\tFor Those About To Rock We Salute You\\t1\\n2\\tBalls to the Wall\\t2\\n3\\tRestless and Wild\\t2\\n*/\\n\\n\\nCREATE TABLE \"Artist\" (\\n\\t\"ArtistId\" INTEGER NOT NULL, \\n\\t\"Name\" NVARCHAR(120), \\n\\tPRIMARY KEY (\"ArtistId\")\\n)\\n\\n/*\\n3 rows from Artist table:\\nArtistId\\tName\\n1\\tAC/DC\\n2\\tAccept\\n3\\tAerosmith\\n*/\\n\\n\\nCREATE TABLE \"InvoiceLine\" (\\n\\t\"InvoiceLineId\" INTEGER NOT NULL, \\n\\t\"InvoiceId\" INTEGER NOT NULL, \\n\\t\"TrackId\" INTEGER NOT NULL, \\n\\t\"UnitPrice\" NUMERIC(10, 2) NOT NULL, \\n\\t\"Quantity\" INTEGER NOT NULL, \\n\\tPRIMARY KEY (\"InvoiceLineId\"), \\n\\tFOREIGN KEY(\"TrackId\") REFERENCES \"Track\" (\"TrackId\"), \\n\\tFOREIGN KEY(\"InvoiceId\") REFERENCES \"Invoice\" (\"InvoiceId\")\\n)\\n\\n/*\\n3 rows from InvoiceLine table:\\nInvoiceLineId\\tInvoiceId\\tTrackId\\tUnitPrice\\tQuantity\\n1\\t1\\t2\\t0.99\\t1\\n2\\t1\\t4\\t0.99\\t1\\n3\\t2\\t6\\t0.99\\t1\\n*/\\n\\n\\nCREATE TABLE \"Track\" (\\n\\t\"TrackId\" INTEGER NOT NULL, \\n\\t\"Name\" NVARCHAR(200) NOT NULL, \\n\\t\"AlbumId\" INTEGER, \\n\\t\"MediaTypeId\" INTEGER NOT NULL, \\n\\t\"GenreId\" INTEGER, \\n\\t\"Composer\" NVARCHAR(220), \\n\\t\"Milliseconds\" INTEGER NOT NULL, \\n\\t\"Bytes\" INTEGER, \\n\\t\"UnitPrice\" NUMERIC(10, 2) NOT NULL, \\n\\tPRIMARY KEY (\"TrackId\"), \\n\\tFOREIGN KEY(\"MediaTypeId\") REFERENCES \"MediaType\" (\"MediaTypeId\"), \\n\\tFOREIGN KEY(\"GenreId\") REFERENCES \"Genre\" (\"GenreId\"), \\n\\tFOREIGN KEY(\"AlbumId\") REFERENCES \"Album\" (\"AlbumId\")\\n)\\n\\n/*\\n3 rows from Track table:\\nTrackId\\tName\\tAlbumId\\tMediaTypeId\\tGenreId\\tComposer\\tMilliseconds\\tBytes\\tUnitPrice\\n1\\tFor Those About To Rock (We Salute You)\\t1\\t1\\t1\\tAngus Young, Malcolm Young, Brian Johnson\\t343719\\t11170334\\t0.99\\n2\\tBalls to the Wall\\t2\\t2\\t1\\tU. Dirkschneider, W. Hoffmann, H. Frank, P. Baltes, S. Kaufmann, G. Hoffmann\\t342562\\t5510424\\t0.99\\n3\\tFast As a Shark\\t3\\t2\\t1\\tF. Baltes, S. Kaufman, U. Dirkscneider & W. Hoffman\\t230619\\t3990994\\t0.99\\n*/', name='sql_db_schema', id='e27fc3d6-0313-44e7-aba1-327bbf81b857', tool_call_id='call_rjKmRGwTIyvIFleJYAd8ab4o'), AIMessage(content='', additional_kwargs={'tool_calls': [{'id': 'call_H1I5CDvNcctGorPF5aRBomWo', 'function': {'arguments': '{\"query\":\"SELECT ar.Name, SUM(il.Quantity) as TotalSales FROM Artist ar JOIN Album al ON ar.ArtistId = al.ArtistId JOIN Track t ON al.AlbumId = t.AlbumId JOIN InvoiceLine il ON t.TrackId = il.TrackId GROUP BY ar.ArtistId, ar.Name ORDER BY TotalSales DESC LIMIT 3;\"}', 'name': 'sql_db_query_checker'}, 'type': 'function'}], 'refusal': None}, response_metadata={'token_usage': {'completion_tokens': 85, 'prompt_tokens': 1302, 'total_tokens': 1387, 'completion_tokens_details': {'accepted_prediction_tokens': 0, 'audio_tokens': 0, 'reasoning_tokens': 0, 'rejected_prediction_tokens': 0}, 'prompt_tokens_details': {'audio_tokens': 0, 'cached_tokens': 0}}, 'model_name': 'gpt-4o-2024-08-06', 'system_fingerprint': 'fp_07871e2ad8', 'id': 'chatcmpl-ByfKE6j3bNPevfEvVjgMymfGaycku', 'service_tier': 'default', 'finish_reason': 'tool_calls', 'logprobs': None}, id='run--44b49ac2-2607-4b4f-bc1b-e84189a1006e-0', tool_calls=[{'name': 'sql_db_query_checker', 'args': {'query': 'SELECT ar.Name, SUM(il.Quantity) as TotalSales FROM Artist ar JOIN Album al ON ar.ArtistId = al.ArtistId JOIN Track t ON al.AlbumId = t.AlbumId JOIN InvoiceLine il ON t.TrackId = il.TrackId GROUP BY ar.ArtistId, ar.Name ORDER BY TotalSales DESC LIMIT 3;'}, 'id': 'call_H1I5CDvNcctGorPF5aRBomWo', 'type': 'tool_call'}], usage_metadata={'input_tokens': 1302, 'output_tokens': 85, 'total_tokens': 1387, 'input_token_details': {'audio': 0, 'cache_read': 0}, 'output_token_details': {'audio': 0, 'reasoning': 0}}), ToolMessage(content='```sql\\nSELECT ar.Name, SUM(il.Quantity) as TotalSales \\nFROM Artist ar \\nJOIN Album al ON ar.ArtistId = al.ArtistId \\nJOIN Track t ON al.AlbumId = t.AlbumId \\nJOIN InvoiceLine il ON t.TrackId = il.TrackId \\nGROUP BY ar.ArtistId, ar.Name \\nORDER BY TotalSales DESC \\nLIMIT 3;\\n```', name='sql_db_query_checker', id='a56c1711-c025-40cb-8ba1-91133775eb1f', tool_call_id='call_H1I5CDvNcctGorPF5aRBomWo'), AIMessage(content='', additional_kwargs={'tool_calls': [{'id': 'call_415aJyVuMSVQX2url4D5Rk7Z', 'function': {'arguments': '{\"query\":\"SELECT ar.Name, SUM(il.Quantity) as TotalSales FROM Artist ar JOIN Album al ON ar.ArtistId = al.ArtistId JOIN Track t ON al.AlbumId = t.AlbumId JOIN InvoiceLine il ON t.TrackId = il.TrackId GROUP BY ar.ArtistId, ar.Name ORDER BY TotalSales DESC LIMIT 3;\"}', 'name': 'sql_db_query'}, 'type': 'function'}], 'refusal': None}, response_metadata={'token_usage': {'completion_tokens': 84, 'prompt_tokens': 1478, 'total_tokens': 1562, 'completion_tokens_details': {'accepted_prediction_tokens': 0, 'audio_tokens': 0, 'reasoning_tokens': 0, 'rejected_prediction_tokens': 0}, 'prompt_tokens_details': {'audio_tokens': 0, 'cached_tokens': 0}}, 'model_name': 'gpt-4o-2024-08-06', 'system_fingerprint': 'fp_07871e2ad8', 'id': 'chatcmpl-ByfKIfJUE8NDtb5tzilAiOkF9mTnJ', 'service_tier': 'default', 'finish_reason': 'tool_calls', 'logprobs': None}, id='run--a13e3338-89ef-4e17-9b5a-53fe64c2ddd5-0', tool_calls=[{'name': 'sql_db_query', 'args': {'query': 'SELECT ar.Name, SUM(il.Quantity) as TotalSales FROM Artist ar JOIN Album al ON ar.ArtistId = al.ArtistId JOIN Track t ON al.AlbumId = t.AlbumId JOIN InvoiceLine il ON t.TrackId = il.TrackId GROUP BY ar.ArtistId, ar.Name ORDER BY TotalSales DESC LIMIT 3;'}, 'id': 'call_415aJyVuMSVQX2url4D5Rk7Z', 'type': 'tool_call'}], usage_metadata={'input_tokens': 1478, 'output_tokens': 84, 'total_tokens': 1562, 'input_token_details': {'audio': 0, 'cache_read': 0}, 'output_token_details': {'audio': 0, 'reasoning': 0}}), ToolMessage(content=\"[('Iron Maiden', 140), ('U2', 107), ('Metallica', 91)]\", name='sql_db_query', id='a1ac53ea-3fff-41c6-99fc-cbc686cb8a0e', tool_call_id='call_415aJyVuMSVQX2url4D5Rk7Z'), AIMessage(content='The top 3 best-selling artists are:\\n\\n1. Iron Maiden with 140 total sales\\n2. U2 with 107 total sales\\n3. Metallica with 91 total sales', additional_kwargs={'refusal': None}, response_metadata={'token_usage': {'completion_tokens': 39, 'prompt_tokens': 1593, 'total_tokens': 1632, 'completion_tokens_details': {'accepted_prediction_tokens': 0, 'audio_tokens': 0, 'reasoning_tokens': 0, 'rejected_prediction_tokens': 0}, 'prompt_tokens_details': {'audio_tokens': 0, 'cached_tokens': 1536}}, 'model_name': 'gpt-4o-2024-08-06', 'system_fingerprint': 'fp_07871e2ad8', 'id': 'chatcmpl-ByfKKLluWAzbSbjUuo1NbMNWLTqim', 'service_tier': 'default', 'finish_reason': 'stop', 'logprobs': None}, id='run--2ce6d5a9-db3d-4403-813d-70744e7cfe09-0', usage_metadata={'input_tokens': 1593, 'output_tokens': 39, 'total_tokens': 1632, 'input_token_details': {'audio': 0, 'cache_read': 1536}, 'output_token_details': {'audio': 0, 'reasoning': 0}})]\n"
     ]
    }
   ],
   "source": [
    "for event in test:\n",
    "    # Assuming the last message is the one we want to print\n",
    "    if event[\"messages\"]:\n",
    "        print(event[\"messages\"])\n",
    "    else:\n",
    "        print(\"No messages found in event.\")"
   ]
  },
  {
   "cell_type": "code",
   "execution_count": 42,
   "id": "79c0a5da",
   "metadata": {},
   "outputs": [],
   "source": [
    "example_query = \"Who are the top 3 best selling artists?\"\n",
    "\n",
    "ai_msg = agent_executor.invoke({\"messages\": [(\"user\", example_query)]})\n"
   ]
  },
  {
   "cell_type": "code",
   "execution_count": 44,
   "id": "0339171e",
   "metadata": {},
   "outputs": [
    {
     "data": {
      "text/plain": [
       "{'messages': [HumanMessage(content='Who are the top 3 best selling artists?', additional_kwargs={}, response_metadata={}, id='ed307842-c356-48a0-9913-e12bbf18fd80'),\n",
       "  AIMessage(content='', additional_kwargs={'tool_calls': [{'id': 'call_gnoy8cdPSqzQaemcrMoiVrBS', 'function': {'arguments': '{}', 'name': 'sql_db_list_tables'}, 'type': 'function'}], 'refusal': None}, response_metadata={'token_usage': {'completion_tokens': 12, 'prompt_tokens': 553, 'total_tokens': 565, 'completion_tokens_details': {'accepted_prediction_tokens': 0, 'audio_tokens': 0, 'reasoning_tokens': 0, 'rejected_prediction_tokens': 0}, 'prompt_tokens_details': {'audio_tokens': 0, 'cached_tokens': 0}}, 'model_name': 'gpt-4o-2024-08-06', 'system_fingerprint': 'fp_07871e2ad8', 'id': 'chatcmpl-ByexBBfsMo8tOXMcmRvWEB31BC4Vw', 'service_tier': 'default', 'finish_reason': 'tool_calls', 'logprobs': None}, id='run--10f584d0-37af-49a5-8d64-8b2847272073-0', tool_calls=[{'name': 'sql_db_list_tables', 'args': {}, 'id': 'call_gnoy8cdPSqzQaemcrMoiVrBS', 'type': 'tool_call'}], usage_metadata={'input_tokens': 553, 'output_tokens': 12, 'total_tokens': 565, 'input_token_details': {'audio': 0, 'cache_read': 0}, 'output_token_details': {'audio': 0, 'reasoning': 0}}),\n",
       "  ToolMessage(content='Album, Artist, Customer, Employee, Genre, Invoice, InvoiceLine, MediaType, Playlist, PlaylistTrack, Track', name='sql_db_list_tables', id='66261a8d-ff93-4566-bcc5-fe9f71ee9f13', tool_call_id='call_gnoy8cdPSqzQaemcrMoiVrBS'),\n",
       "  AIMessage(content='', additional_kwargs={'tool_calls': [{'id': 'call_StKOFaNFybv5vOJ9SATDsN9x', 'function': {'arguments': '{\"table_names\":\"Artist, Album, InvoiceLine, Track\"}', 'name': 'sql_db_schema'}, 'type': 'function'}], 'refusal': None}, response_metadata={'token_usage': {'completion_tokens': 23, 'prompt_tokens': 599, 'total_tokens': 622, 'completion_tokens_details': {'accepted_prediction_tokens': 0, 'audio_tokens': 0, 'reasoning_tokens': 0, 'rejected_prediction_tokens': 0}, 'prompt_tokens_details': {'audio_tokens': 0, 'cached_tokens': 0}}, 'model_name': 'gpt-4o-2024-08-06', 'system_fingerprint': 'fp_07871e2ad8', 'id': 'chatcmpl-ByexCymZi358aepKsI885GgggBAlL', 'service_tier': 'default', 'finish_reason': 'tool_calls', 'logprobs': None}, id='run--b5da950b-8a97-4baa-82dd-5aba8f1d6cbe-0', tool_calls=[{'name': 'sql_db_schema', 'args': {'table_names': 'Artist, Album, InvoiceLine, Track'}, 'id': 'call_StKOFaNFybv5vOJ9SATDsN9x', 'type': 'tool_call'}], usage_metadata={'input_tokens': 599, 'output_tokens': 23, 'total_tokens': 622, 'input_token_details': {'audio': 0, 'cache_read': 0}, 'output_token_details': {'audio': 0, 'reasoning': 0}}),\n",
       "  ToolMessage(content='\\nCREATE TABLE \"Album\" (\\n\\t\"AlbumId\" INTEGER NOT NULL, \\n\\t\"Title\" NVARCHAR(160) NOT NULL, \\n\\t\"ArtistId\" INTEGER NOT NULL, \\n\\tPRIMARY KEY (\"AlbumId\"), \\n\\tFOREIGN KEY(\"ArtistId\") REFERENCES \"Artist\" (\"ArtistId\")\\n)\\n\\n/*\\n3 rows from Album table:\\nAlbumId\\tTitle\\tArtistId\\n1\\tFor Those About To Rock We Salute You\\t1\\n2\\tBalls to the Wall\\t2\\n3\\tRestless and Wild\\t2\\n*/\\n\\n\\nCREATE TABLE \"Artist\" (\\n\\t\"ArtistId\" INTEGER NOT NULL, \\n\\t\"Name\" NVARCHAR(120), \\n\\tPRIMARY KEY (\"ArtistId\")\\n)\\n\\n/*\\n3 rows from Artist table:\\nArtistId\\tName\\n1\\tAC/DC\\n2\\tAccept\\n3\\tAerosmith\\n*/\\n\\n\\nCREATE TABLE \"InvoiceLine\" (\\n\\t\"InvoiceLineId\" INTEGER NOT NULL, \\n\\t\"InvoiceId\" INTEGER NOT NULL, \\n\\t\"TrackId\" INTEGER NOT NULL, \\n\\t\"UnitPrice\" NUMERIC(10, 2) NOT NULL, \\n\\t\"Quantity\" INTEGER NOT NULL, \\n\\tPRIMARY KEY (\"InvoiceLineId\"), \\n\\tFOREIGN KEY(\"TrackId\") REFERENCES \"Track\" (\"TrackId\"), \\n\\tFOREIGN KEY(\"InvoiceId\") REFERENCES \"Invoice\" (\"InvoiceId\")\\n)\\n\\n/*\\n3 rows from InvoiceLine table:\\nInvoiceLineId\\tInvoiceId\\tTrackId\\tUnitPrice\\tQuantity\\n1\\t1\\t2\\t0.99\\t1\\n2\\t1\\t4\\t0.99\\t1\\n3\\t2\\t6\\t0.99\\t1\\n*/\\n\\n\\nCREATE TABLE \"Track\" (\\n\\t\"TrackId\" INTEGER NOT NULL, \\n\\t\"Name\" NVARCHAR(200) NOT NULL, \\n\\t\"AlbumId\" INTEGER, \\n\\t\"MediaTypeId\" INTEGER NOT NULL, \\n\\t\"GenreId\" INTEGER, \\n\\t\"Composer\" NVARCHAR(220), \\n\\t\"Milliseconds\" INTEGER NOT NULL, \\n\\t\"Bytes\" INTEGER, \\n\\t\"UnitPrice\" NUMERIC(10, 2) NOT NULL, \\n\\tPRIMARY KEY (\"TrackId\"), \\n\\tFOREIGN KEY(\"MediaTypeId\") REFERENCES \"MediaType\" (\"MediaTypeId\"), \\n\\tFOREIGN KEY(\"GenreId\") REFERENCES \"Genre\" (\"GenreId\"), \\n\\tFOREIGN KEY(\"AlbumId\") REFERENCES \"Album\" (\"AlbumId\")\\n)\\n\\n/*\\n3 rows from Track table:\\nTrackId\\tName\\tAlbumId\\tMediaTypeId\\tGenreId\\tComposer\\tMilliseconds\\tBytes\\tUnitPrice\\n1\\tFor Those About To Rock (We Salute You)\\t1\\t1\\t1\\tAngus Young, Malcolm Young, Brian Johnson\\t343719\\t11170334\\t0.99\\n2\\tBalls to the Wall\\t2\\t2\\t1\\tU. Dirkschneider, W. Hoffmann, H. Frank, P. Baltes, S. Kaufmann, G. Hoffmann\\t342562\\t5510424\\t0.99\\n3\\tFast As a Shark\\t3\\t2\\t1\\tF. Baltes, S. Kaufman, U. Dirkscneider & W. Hoffman\\t230619\\t3990994\\t0.99\\n*/', name='sql_db_schema', id='744257be-0955-4bf5-b7a9-536e3af2dc60', tool_call_id='call_StKOFaNFybv5vOJ9SATDsN9x'),\n",
       "  AIMessage(content='', additional_kwargs={'tool_calls': [{'id': 'call_iMYs1Z7nH2iZcGoe9On6S4v3', 'function': {'arguments': '{\"query\":\"SELECT ar.Name, SUM(il.Quantity * il.UnitPrice) as TotalSales FROM Artist ar JOIN Album al ON ar.ArtistId = al.ArtistId JOIN Track t ON al.AlbumId = t.AlbumId JOIN InvoiceLine il ON t.TrackId = il.TrackId GROUP BY ar.Name ORDER BY TotalSales DESC LIMIT 3;\"}', 'name': 'sql_db_query_checker'}, 'type': 'function'}], 'refusal': None}, response_metadata={'token_usage': {'completion_tokens': 84, 'prompt_tokens': 1302, 'total_tokens': 1386, 'completion_tokens_details': {'accepted_prediction_tokens': 0, 'audio_tokens': 0, 'reasoning_tokens': 0, 'rejected_prediction_tokens': 0}, 'prompt_tokens_details': {'audio_tokens': 0, 'cached_tokens': 0}}, 'model_name': 'gpt-4o-2024-08-06', 'system_fingerprint': 'fp_07871e2ad8', 'id': 'chatcmpl-ByexDoYnTO6Tr15Gkk0QyayW18WbN', 'service_tier': 'default', 'finish_reason': 'tool_calls', 'logprobs': None}, id='run--4c77fe68-2f9a-4c2c-ba54-e461f49538cd-0', tool_calls=[{'name': 'sql_db_query_checker', 'args': {'query': 'SELECT ar.Name, SUM(il.Quantity * il.UnitPrice) as TotalSales FROM Artist ar JOIN Album al ON ar.ArtistId = al.ArtistId JOIN Track t ON al.AlbumId = t.AlbumId JOIN InvoiceLine il ON t.TrackId = il.TrackId GROUP BY ar.Name ORDER BY TotalSales DESC LIMIT 3;'}, 'id': 'call_iMYs1Z7nH2iZcGoe9On6S4v3', 'type': 'tool_call'}], usage_metadata={'input_tokens': 1302, 'output_tokens': 84, 'total_tokens': 1386, 'input_token_details': {'audio': 0, 'cache_read': 0}, 'output_token_details': {'audio': 0, 'reasoning': 0}}),\n",
       "  ToolMessage(content='```sql\\nSELECT ar.Name, SUM(il.Quantity * il.UnitPrice) as TotalSales \\nFROM Artist ar \\nJOIN Album al ON ar.ArtistId = al.ArtistId \\nJOIN Track t ON al.AlbumId = t.AlbumId \\nJOIN InvoiceLine il ON t.TrackId = il.TrackId \\nGROUP BY ar.Name \\nORDER BY TotalSales DESC \\nLIMIT 3;\\n```', name='sql_db_query_checker', id='204c270a-dded-4432-9d88-16e4adb4743f', tool_call_id='call_iMYs1Z7nH2iZcGoe9On6S4v3'),\n",
       "  AIMessage(content='', additional_kwargs={'tool_calls': [{'id': 'call_wiebUipCMMuv2nXtspHUt7zj', 'function': {'arguments': '{\"query\":\"SELECT ar.Name, SUM(il.Quantity * il.UnitPrice) as TotalSales FROM Artist ar JOIN Album al ON ar.ArtistId = al.ArtistId JOIN Track t ON al.AlbumId = t.AlbumId JOIN InvoiceLine il ON t.TrackId = il.TrackId GROUP BY ar.Name ORDER BY TotalSales DESC LIMIT 3;\"}', 'name': 'sql_db_query'}, 'type': 'function'}], 'refusal': None}, response_metadata={'token_usage': {'completion_tokens': 83, 'prompt_tokens': 1476, 'total_tokens': 1559, 'completion_tokens_details': {'accepted_prediction_tokens': 0, 'audio_tokens': 0, 'reasoning_tokens': 0, 'rejected_prediction_tokens': 0}, 'prompt_tokens_details': {'audio_tokens': 0, 'cached_tokens': 0}}, 'model_name': 'gpt-4o-2024-08-06', 'system_fingerprint': 'fp_07871e2ad8', 'id': 'chatcmpl-ByexIU2txir7XiGTZnyDur0MvuwZz', 'service_tier': 'default', 'finish_reason': 'tool_calls', 'logprobs': None}, id='run--54041529-6297-4f40-8cf7-70512f199aa9-0', tool_calls=[{'name': 'sql_db_query', 'args': {'query': 'SELECT ar.Name, SUM(il.Quantity * il.UnitPrice) as TotalSales FROM Artist ar JOIN Album al ON ar.ArtistId = al.ArtistId JOIN Track t ON al.AlbumId = t.AlbumId JOIN InvoiceLine il ON t.TrackId = il.TrackId GROUP BY ar.Name ORDER BY TotalSales DESC LIMIT 3;'}, 'id': 'call_wiebUipCMMuv2nXtspHUt7zj', 'type': 'tool_call'}], usage_metadata={'input_tokens': 1476, 'output_tokens': 83, 'total_tokens': 1559, 'input_token_details': {'audio': 0, 'cache_read': 0}, 'output_token_details': {'audio': 0, 'reasoning': 0}}),\n",
       "  ToolMessage(content=\"[('Iron Maiden', 138.6), ('U2', 105.92999999999999), ('Metallica', 90.09)]\", name='sql_db_query', id='64264aa1-8d0b-444d-8db6-b145cc6b9b82', tool_call_id='call_wiebUipCMMuv2nXtspHUt7zj'),\n",
       "  AIMessage(content='The top 3 best-selling artists are:\\n\\n1. Iron Maiden with total sales of $138.6\\n2. U2 with total sales of $105.93\\n3. Metallica with total sales of $90.09', additional_kwargs={'refusal': None}, response_metadata={'token_usage': {'completion_tokens': 48, 'prompt_tokens': 1600, 'total_tokens': 1648, 'completion_tokens_details': {'accepted_prediction_tokens': 0, 'audio_tokens': 0, 'reasoning_tokens': 0, 'rejected_prediction_tokens': 0}, 'prompt_tokens_details': {'audio_tokens': 0, 'cached_tokens': 1536}}, 'model_name': 'gpt-4o-2024-08-06', 'system_fingerprint': 'fp_07871e2ad8', 'id': 'chatcmpl-ByexLJ0WKm9TKs3fUVvqDXWzxnckT', 'service_tier': 'default', 'finish_reason': 'stop', 'logprobs': None}, id='run--28fce395-33e6-4d09-a127-97bdb99b16e0-0', usage_metadata={'input_tokens': 1600, 'output_tokens': 48, 'total_tokens': 1648, 'input_token_details': {'audio': 0, 'cache_read': 1536}, 'output_token_details': {'audio': 0, 'reasoning': 0}})]}"
      ]
     },
     "execution_count": 44,
     "metadata": {},
     "output_type": "execute_result"
    }
   ],
   "source": [
    "ai_msg"
   ]
  },
  {
   "cell_type": "code",
   "execution_count": 71,
   "id": "7ca469db",
   "metadata": {},
   "outputs": [],
   "source": [
    "import gradio as gr\n",
    "from gradio import ChatMessage\n",
    "\n",
    "def interact_with_agent(user_message, history):\n",
    "    events = agent_executor.stream(\n",
    "        {\"messages\": [(\"user\", user_message)]},\n",
    "        stream_mode=\"values\",\n",
    "    )\n",
    "\n",
    "    for event in events:\n",
    "        repsonse = event[\"messages\"][-1].text()\n",
    "        if isinstance(event[\"messages\"][-1], AIMessage):\n",
    "            history.append(ChatMessage(role=\"assistant\", content=repsonse))\n",
    "        elif isinstance(event[\"messages\"][-1], ToolMessage):\n",
    "            history.append(ChatMessage(role=\"assistant\", content= repsonse,metadata={\"title\": \"🛠️ Used tool SQL\"}))\n",
    "        yield history\n",
    "\n",
    "\n",
    "demo = gr.ChatInterface(\n",
    "    interact_with_agent,\n",
    "    type=\"messages\",\n",
    "    chatbot= gr.Chatbot(\n",
    "        label=\"Agent\",\n",
    "        type=\"messages\",\n",
    "        avatar_images=(\n",
    "            None,\n",
    "            \"https://em-content.zobj.net/source/twitter/53/robot-face_1f916.png\",\n",
    "        ),\n",
    "    ),\n",
    "    examples=[\n",
    "        [\"Who are the top 3 best selling artists?\"],\n",
    "        [\"Which country's customers spent the most?\"]],\n",
    "    save_history=True,\n",
    ")"
   ]
  },
  {
   "cell_type": "code",
   "execution_count": 72,
   "id": "af6743ba",
   "metadata": {},
   "outputs": [
    {
     "name": "stdout",
     "output_type": "stream",
     "text": [
      "* Running on local URL:  http://127.0.0.1:7880\n",
      "* To create a public link, set `share=True` in `launch()`.\n"
     ]
    },
    {
     "data": {
      "text/html": [
       "<div><iframe src=\"http://127.0.0.1:7880/\" width=\"100%\" height=\"500\" allow=\"autoplay; camera; microphone; clipboard-read; clipboard-write;\" frameborder=\"0\" allowfullscreen></iframe></div>"
      ],
      "text/plain": [
       "<IPython.core.display.HTML object>"
      ]
     },
     "metadata": {},
     "output_type": "display_data"
    },
    {
     "data": {
      "text/plain": []
     },
     "execution_count": 72,
     "metadata": {},
     "output_type": "execute_result"
    }
   ],
   "source": [
    "demo.launch()"
   ]
  }
 ],
 "metadata": {
  "kernelspec": {
   "display_name": ".venv",
   "language": "python",
   "name": "python3"
  },
  "language_info": {
   "codemirror_mode": {
    "name": "ipython",
    "version": 3
   },
   "file_extension": ".py",
   "mimetype": "text/x-python",
   "name": "python",
   "nbconvert_exporter": "python",
   "pygments_lexer": "ipython3",
   "version": "3.11.9"
  }
 },
 "nbformat": 4,
 "nbformat_minor": 5
}
